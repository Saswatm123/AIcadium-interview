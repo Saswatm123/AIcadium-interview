{
 "cells": [
  {
   "cell_type": "code",
   "execution_count": 260,
   "metadata": {},
   "outputs": [],
   "source": [
    "import pandas as pd\n",
    "import numpy as np\n",
    "import matplotlib.pyplot as plt"
   ]
  },
  {
   "cell_type": "code",
   "execution_count": 261,
   "metadata": {},
   "outputs": [
    {
     "data": {
      "text/html": [
       "<div>\n",
       "<style scoped>\n",
       "    .dataframe tbody tr th:only-of-type {\n",
       "        vertical-align: middle;\n",
       "    }\n",
       "\n",
       "    .dataframe tbody tr th {\n",
       "        vertical-align: top;\n",
       "    }\n",
       "\n",
       "    .dataframe thead th {\n",
       "        text-align: right;\n",
       "    }\n",
       "</style>\n",
       "<table border=\"1\" class=\"dataframe\">\n",
       "  <thead>\n",
       "    <tr style=\"text-align: right;\">\n",
       "      <th></th>\n",
       "      <th>Administrative</th>\n",
       "      <th>Administrative_Duration</th>\n",
       "      <th>Informational</th>\n",
       "      <th>Informational_Duration</th>\n",
       "      <th>ProductRelated</th>\n",
       "      <th>ProductRelated_Duration</th>\n",
       "      <th>BounceRates</th>\n",
       "      <th>ExitRates</th>\n",
       "      <th>PageValues</th>\n",
       "      <th>SpecialDay</th>\n",
       "      <th>Month</th>\n",
       "      <th>OperatingSystems</th>\n",
       "      <th>Browser</th>\n",
       "      <th>Region</th>\n",
       "      <th>TrafficType</th>\n",
       "      <th>VisitorType</th>\n",
       "      <th>Weekend</th>\n",
       "      <th>Revenue</th>\n",
       "    </tr>\n",
       "  </thead>\n",
       "  <tbody>\n",
       "    <tr>\n",
       "      <th>0</th>\n",
       "      <td>0</td>\n",
       "      <td>0.0</td>\n",
       "      <td>0</td>\n",
       "      <td>0.0</td>\n",
       "      <td>1</td>\n",
       "      <td>0.000000</td>\n",
       "      <td>0.20</td>\n",
       "      <td>0.20</td>\n",
       "      <td>0.0</td>\n",
       "      <td>0.0</td>\n",
       "      <td>Feb</td>\n",
       "      <td>1</td>\n",
       "      <td>1</td>\n",
       "      <td>1</td>\n",
       "      <td>1</td>\n",
       "      <td>Returning_Visitor</td>\n",
       "      <td>False</td>\n",
       "      <td>False</td>\n",
       "    </tr>\n",
       "    <tr>\n",
       "      <th>1</th>\n",
       "      <td>0</td>\n",
       "      <td>0.0</td>\n",
       "      <td>0</td>\n",
       "      <td>0.0</td>\n",
       "      <td>2</td>\n",
       "      <td>64.000000</td>\n",
       "      <td>0.00</td>\n",
       "      <td>0.10</td>\n",
       "      <td>0.0</td>\n",
       "      <td>0.0</td>\n",
       "      <td>Feb</td>\n",
       "      <td>2</td>\n",
       "      <td>2</td>\n",
       "      <td>1</td>\n",
       "      <td>2</td>\n",
       "      <td>Returning_Visitor</td>\n",
       "      <td>False</td>\n",
       "      <td>False</td>\n",
       "    </tr>\n",
       "    <tr>\n",
       "      <th>2</th>\n",
       "      <td>0</td>\n",
       "      <td>0.0</td>\n",
       "      <td>0</td>\n",
       "      <td>0.0</td>\n",
       "      <td>1</td>\n",
       "      <td>0.000000</td>\n",
       "      <td>0.20</td>\n",
       "      <td>0.20</td>\n",
       "      <td>0.0</td>\n",
       "      <td>0.0</td>\n",
       "      <td>Feb</td>\n",
       "      <td>4</td>\n",
       "      <td>1</td>\n",
       "      <td>9</td>\n",
       "      <td>3</td>\n",
       "      <td>Returning_Visitor</td>\n",
       "      <td>False</td>\n",
       "      <td>False</td>\n",
       "    </tr>\n",
       "    <tr>\n",
       "      <th>3</th>\n",
       "      <td>0</td>\n",
       "      <td>0.0</td>\n",
       "      <td>0</td>\n",
       "      <td>0.0</td>\n",
       "      <td>2</td>\n",
       "      <td>2.666667</td>\n",
       "      <td>0.05</td>\n",
       "      <td>0.14</td>\n",
       "      <td>0.0</td>\n",
       "      <td>0.0</td>\n",
       "      <td>Feb</td>\n",
       "      <td>3</td>\n",
       "      <td>2</td>\n",
       "      <td>2</td>\n",
       "      <td>4</td>\n",
       "      <td>Returning_Visitor</td>\n",
       "      <td>False</td>\n",
       "      <td>False</td>\n",
       "    </tr>\n",
       "    <tr>\n",
       "      <th>4</th>\n",
       "      <td>0</td>\n",
       "      <td>0.0</td>\n",
       "      <td>0</td>\n",
       "      <td>0.0</td>\n",
       "      <td>10</td>\n",
       "      <td>627.500000</td>\n",
       "      <td>0.02</td>\n",
       "      <td>0.05</td>\n",
       "      <td>0.0</td>\n",
       "      <td>0.0</td>\n",
       "      <td>Feb</td>\n",
       "      <td>3</td>\n",
       "      <td>3</td>\n",
       "      <td>1</td>\n",
       "      <td>4</td>\n",
       "      <td>Returning_Visitor</td>\n",
       "      <td>True</td>\n",
       "      <td>False</td>\n",
       "    </tr>\n",
       "  </tbody>\n",
       "</table>\n",
       "</div>"
      ],
      "text/plain": [
       "   Administrative  Administrative_Duration  Informational  \\\n",
       "0               0                      0.0              0   \n",
       "1               0                      0.0              0   \n",
       "2               0                      0.0              0   \n",
       "3               0                      0.0              0   \n",
       "4               0                      0.0              0   \n",
       "\n",
       "   Informational_Duration  ProductRelated  ProductRelated_Duration  \\\n",
       "0                     0.0               1                 0.000000   \n",
       "1                     0.0               2                64.000000   \n",
       "2                     0.0               1                 0.000000   \n",
       "3                     0.0               2                 2.666667   \n",
       "4                     0.0              10               627.500000   \n",
       "\n",
       "   BounceRates  ExitRates  PageValues  SpecialDay Month  OperatingSystems  \\\n",
       "0         0.20       0.20         0.0         0.0   Feb                 1   \n",
       "1         0.00       0.10         0.0         0.0   Feb                 2   \n",
       "2         0.20       0.20         0.0         0.0   Feb                 4   \n",
       "3         0.05       0.14         0.0         0.0   Feb                 3   \n",
       "4         0.02       0.05         0.0         0.0   Feb                 3   \n",
       "\n",
       "   Browser  Region  TrafficType        VisitorType  Weekend  Revenue  \n",
       "0        1       1            1  Returning_Visitor    False    False  \n",
       "1        2       1            2  Returning_Visitor    False    False  \n",
       "2        1       9            3  Returning_Visitor    False    False  \n",
       "3        2       2            4  Returning_Visitor    False    False  \n",
       "4        3       1            4  Returning_Visitor     True    False  "
      ]
     },
     "execution_count": 261,
     "metadata": {},
     "output_type": "execute_result"
    }
   ],
   "source": [
    "data = pd.read_csv('coding_round_data.csv')\n",
    "data.head()"
   ]
  },
  {
   "cell_type": "code",
   "execution_count": 262,
   "metadata": {},
   "outputs": [
    {
     "data": {
      "text/plain": [
       "0.15474452554744525"
      ]
     },
     "execution_count": 262,
     "metadata": {},
     "output_type": "execute_result"
    }
   ],
   "source": [
    "# This is the proportion of positive class labels\n",
    "data['Revenue'].mean()"
   ]
  },
  {
   "cell_type": "code",
   "execution_count": 263,
   "metadata": {},
   "outputs": [],
   "source": [
    "from sklearn.model_selection import StratifiedShuffleSplit\n",
    "SEED = 12345 # To ensure we don't leak data between RAM resets (like shutting off my computer)\n",
    "splitter = StratifiedShuffleSplit(n_splits = 1, test_size = .2, random_state = SEED)\n",
    "train, test = list( splitter.split(X = data, y = data['Revenue']) )[0]"
   ]
  },
  {
   "cell_type": "code",
   "execution_count": 264,
   "metadata": {},
   "outputs": [
    {
     "data": {
      "text/plain": [
       "True"
      ]
     },
     "execution_count": 264,
     "metadata": {},
     "output_type": "execute_result"
    }
   ],
   "source": [
    "# To make sure the proportions of positive class labels in train, test are the same\n",
    "np.isclose(data.iloc[test,:]['Revenue'].mean(), data.iloc[train,:]['Revenue'].mean(), atol = .001)"
   ]
  },
  {
   "cell_type": "code",
   "execution_count": 265,
   "metadata": {},
   "outputs": [],
   "source": [
    "train_data = data.iloc[train,:]\n",
    "test_data = data.iloc[test,:]"
   ]
  },
  {
   "cell_type": "code",
   "execution_count": 266,
   "metadata": {},
   "outputs": [
    {
     "data": {
      "text/plain": [
       "May     2675\n",
       "Nov     2407\n",
       "Mar     1532\n",
       "Dec     1365\n",
       "Oct      439\n",
       "Jul      361\n",
       "Sep      350\n",
       "Aug      342\n",
       "June     241\n",
       "Feb      152\n",
       "Name: Month, dtype: int64"
      ]
     },
     "execution_count": 266,
     "metadata": {},
     "output_type": "execute_result"
    }
   ],
   "source": [
    "train_data['Month'].value_counts()\n",
    "# Looks like there are only 10 months reported. We will start by encoding the months variable so that \n",
    "# the months are circular, and our feature will include information that December is closer to January\n",
    "# than June. We can make it circular by replacing the Month value with the cosine & sine of the month's\n",
    "# proportional distance between 0 and 2pi (ex. Jan=0=2pi, Dec=11pi/6=2pi-pi/12)"
   ]
  },
  {
   "cell_type": "code",
   "execution_count": 267,
   "metadata": {},
   "outputs": [],
   "source": [
    "class Pipeline:\n",
    "    def __init__(self, *funcs):\n",
    "        '''\n",
    "            Desc:\n",
    "                Takes in a list of functions & applies them to any pd.DataFramem passed\n",
    "                in through the __call__ method.\n",
    "            Args:\n",
    "                *funcs: A list of functions\n",
    "        '''\n",
    "        self.funcs = list([func.__name__, func] for func in funcs)\n",
    "    \n",
    "    def __call__(self, dataframe):\n",
    "        for funcname, func in self.funcs:\n",
    "            print(\"Applying func\", funcname)\n",
    "            dataframe = func(dataframe)\n",
    "        return dataframe\n",
    "    \n",
    "    def add(self, func):\n",
    "        self.funcs.append( (func.__name__, func) )\n",
    "    \n",
    "    def __str__(self):\n",
    "        return \"Pipeline: \" + ', '.join(funcname for funcname, _ in self.funcs)\n",
    "\n",
    "pipeline = Pipeline()"
   ]
  },
  {
   "cell_type": "code",
   "execution_count": 268,
   "metadata": {},
   "outputs": [],
   "source": [
    "def make_months_circular(df):\n",
    "    months_map = dict(\n",
    "        zip(\n",
    "            ['Jan', 'Feb', 'Mar', 'Apr', 'May', 'June', 'Jul', 'Aug', 'Sep', 'Oct', 'Nov', 'Dec'],\n",
    "            np.linspace(0,2*np.pi-2*np.pi/12,12)\n",
    "        )\n",
    "    )\n",
    "    months_radian = df['Month'].apply(lambda month : months_map[month])\n",
    "    months_x, months_y = np.cos(months_radian), np.sin(months_radian)\n",
    "    df_updated = df.drop('Month', axis=1)\n",
    "    df_updated['Month_x'] = months_x\n",
    "    df_updated['Month_y'] = months_y\n",
    "    return df_updated\n",
    "train_data = make_months_circular(train_data)\n",
    "pipeline.add(make_months_circular)"
   ]
  },
  {
   "cell_type": "code",
   "execution_count": 269,
   "metadata": {},
   "outputs": [
    {
     "data": {
      "text/plain": [
       "Administrative               int64\n",
       "Administrative_Duration    float64\n",
       "Informational                int64\n",
       "Informational_Duration     float64\n",
       "ProductRelated               int64\n",
       "ProductRelated_Duration    float64\n",
       "BounceRates                float64\n",
       "ExitRates                  float64\n",
       "PageValues                 float64\n",
       "SpecialDay                 float64\n",
       "OperatingSystems             int64\n",
       "Browser                      int64\n",
       "Region                       int64\n",
       "TrafficType                  int64\n",
       "VisitorType                 object\n",
       "Weekend                       bool\n",
       "Revenue                       bool\n",
       "Month_x                    float64\n",
       "Month_y                    float64\n",
       "dtype: object"
      ]
     },
     "execution_count": 269,
     "metadata": {},
     "output_type": "execute_result"
    }
   ],
   "source": [
    "# We now check the data types to see if any types need changing (int -> categorical, etc)\n",
    "train_data.dtypes"
   ]
  },
  {
   "cell_type": "code",
   "execution_count": 270,
   "metadata": {},
   "outputs": [],
   "source": [
    "# We see that some of the data types still need some changing. (1, 2) as integers are different \n",
    "# from (1, 2) as categories (unordered).\n",
    "\n",
    "def make_data_categorical(df):\n",
    "    df[['OperatingSystems', 'Browser', 'Region', 'TrafficType', 'VisitorType']] = df[['OperatingSystems', 'Browser', 'Region', 'TrafficType', 'VisitorType']].astype('category')\n",
    "    return df\n",
    "\n",
    "make_data_categorical(train_data)\n",
    "pipeline.add(make_data_categorical)"
   ]
  },
  {
   "cell_type": "code",
   "execution_count": 271,
   "metadata": {},
   "outputs": [
    {
     "data": {
      "text/plain": [
       "Administrative                int64\n",
       "Administrative_Duration     float64\n",
       "Informational                 int64\n",
       "Informational_Duration      float64\n",
       "ProductRelated                int64\n",
       "ProductRelated_Duration     float64\n",
       "BounceRates                 float64\n",
       "ExitRates                   float64\n",
       "PageValues                  float64\n",
       "SpecialDay                  float64\n",
       "OperatingSystems           category\n",
       "Browser                    category\n",
       "Region                     category\n",
       "TrafficType                category\n",
       "VisitorType                category\n",
       "Weekend                        bool\n",
       "Revenue                        bool\n",
       "Month_x                     float64\n",
       "Month_y                     float64\n",
       "dtype: object"
      ]
     },
     "execution_count": 271,
     "metadata": {},
     "output_type": "execute_result"
    }
   ],
   "source": [
    "train_data.dtypes\n",
    "\n",
    "# We can see now that the data types for the wrongly int-casted data types are fixed as categorical"
   ]
  },
  {
   "cell_type": "code",
   "execution_count": 272,
   "metadata": {},
   "outputs": [
    {
     "data": {
      "text/plain": [
       "<AxesSubplot:>"
      ]
     },
     "execution_count": 272,
     "metadata": {},
     "output_type": "execute_result"
    },
    {
     "data": {
      "image/png": "[encoded data removed]",
      "text/plain": [
       "<Figure size 432x288 with 1 Axes>"
      ]
     },
     "metadata": {
      "needs_background": "light"
     },
     "output_type": "display_data"
    }
   ],
   "source": [
    "# Now I will do some final checking up on some of the other features of interest.\n",
    "train_data['SpecialDay'].hist()"
   ]
  },
  {
   "cell_type": "code",
   "execution_count": 273,
   "metadata": {},
   "outputs": [
    {
     "data": {
      "text/plain": [
       "0.0    8868\n",
       "0.6     274\n",
       "0.8     252\n",
       "0.4     200\n",
       "0.2     140\n",
       "1.0     130\n",
       "Name: SpecialDay, dtype: int64"
      ]
     },
     "execution_count": 273,
     "metadata": {},
     "output_type": "execute_result"
    }
   ],
   "source": [
    "train_data['SpecialDay'].value_counts()\n",
    "# Since SpecialDay has a fixed number of values, we will look at proportions of buys given the date falls\n",
    "# on a day with the given SpecialDay value"
   ]
  },
  {
   "cell_type": "code",
   "execution_count": 274,
   "metadata": {},
   "outputs": [
    {
     "data": {
      "text/plain": [
       "SpecialDay\n",
       "0.0    0.164975\n",
       "0.2    0.064286\n",
       "0.4    0.055000\n",
       "0.6    0.087591\n",
       "0.8    0.039683\n",
       "1.0    0.069231\n",
       "Name: Revenue, dtype: float64"
      ]
     },
     "execution_count": 274,
     "metadata": {},
     "output_type": "execute_result"
    }
   ],
   "source": [
    "train_data.groupby(['SpecialDay'])['Revenue'].mean()\n",
    "# It initially seems like the proportion of buys given proximity to a special date goes down \n",
    "# compared to not having a special day coming up. There is a Region variable. We can test if these \n",
    "# \"Special Days\" are special in only some regions (ie. Diwali or Chinese New Year may not be as \n",
    "# special/popular in America as they are in their respective regions of origin.)"
   ]
  },
  {
   "cell_type": "code",
   "execution_count": 275,
   "metadata": {},
   "outputs": [
    {
     "data": {
      "text/plain": [
       "Region  SpecialDay\n",
       "1       0.0           0.178198\n",
       "        0.2           0.017241\n",
       "        0.4           0.028169\n",
       "        0.6           0.076271\n",
       "        0.8           0.009804\n",
       "        1.0           0.125000\n",
       "2       0.0           0.172414\n",
       "        0.2           0.125000\n",
       "        0.4           0.142857\n",
       "        0.6           0.238095\n",
       "        0.8           0.071429\n",
       "        1.0           0.071429\n",
       "3       0.0           0.157522\n",
       "        0.2           0.032258\n",
       "        0.4           0.000000\n",
       "        0.6           0.033898\n",
       "        0.8           0.108696\n",
       "        1.0           0.030303\n",
       "4       0.0           0.154299\n",
       "        0.2           0.083333\n",
       "        0.4           0.000000\n",
       "        0.6           0.208333\n",
       "        0.8           0.000000\n",
       "        1.0           0.000000\n",
       "5       0.0           0.152466\n",
       "        0.2           0.000000\n",
       "        0.4           0.142857\n",
       "        0.6           0.000000\n",
       "        0.8           0.000000\n",
       "        1.0           0.000000\n",
       "6       0.0           0.136752\n",
       "        0.2           0.100000\n",
       "        0.4           0.066667\n",
       "        0.6           0.000000\n",
       "        0.8           0.000000\n",
       "        1.0           0.000000\n",
       "7       0.0           0.176471\n",
       "        0.2           0.000000\n",
       "        0.4           0.000000\n",
       "        0.6           0.142857\n",
       "        0.8           0.000000\n",
       "        1.0           0.058824\n",
       "8       0.0           0.122642\n",
       "        0.2           0.500000\n",
       "        0.4           0.285714\n",
       "        0.6           0.000000\n",
       "        0.8           0.111111\n",
       "        1.0           0.000000\n",
       "9       0.0           0.155844\n",
       "        0.2           1.000000\n",
       "        0.4           0.000000\n",
       "        0.6           0.125000\n",
       "        0.8           0.166667\n",
       "        1.0           0.250000\n",
       "Name: Revenue, dtype: float64"
      ]
     },
     "execution_count": 275,
     "metadata": {},
     "output_type": "execute_result"
    }
   ],
   "source": [
    "train_data.groupby(['Region', 'SpecialDay'])['Revenue'].mean()\n",
    "# It looks like we get mixed results for whether a region considers a day \"Special\". Without knowing\n",
    "# the actual special days (knowing whether the day is halloween, Chinese New Year, etc.) and regions,\n",
    "# it will likely be better to just leave as is and use regularization down the line. Another problem\n",
    "# is that as we group by more variables, we get smaller sample sizes, so I want to avoid being\n",
    "# overconfident at this level."
   ]
  },
  {
   "cell_type": "code",
   "execution_count": 277,
   "metadata": {},
   "outputs": [
    {
     "name": "stdout",
     "output_type": "stream",
     "text": [
      "Applying func make_months_circular\n",
      "Applying func make_data_categorical\n"
     ]
    }
   ],
   "source": [
    "test_data = pipeline(test_data)\n",
    "# This cell just checks if the pipeline class works, which it does. We will now move to model selection."
   ]
  }
 ],
 "metadata": {
  "kernelspec": {
   "display_name": "Python 3",
   "language": "python",
   "name": "python3"
  },
  "language_info": {
   "codemirror_mode": {
    "name": "ipython",
    "version": 3
   },
   "file_extension": ".py",
   "mimetype": "text/x-python",
   "name": "python",
   "nbconvert_exporter": "python",
   "pygments_lexer": "ipython3",
   "version": "3.8.5"
  }
 },
 "nbformat": 4,
 "nbformat_minor": 4
}
