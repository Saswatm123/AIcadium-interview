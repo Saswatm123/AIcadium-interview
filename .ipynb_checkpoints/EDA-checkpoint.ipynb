{
 "cells": [
  {
   "cell_type": "code",
   "execution_count": 1024,
   "metadata": {},
   "outputs": [],
   "source": [
    "import pandas as pd\n",
    "import numpy as np\n",
    "import matplotlib.pyplot as plt"
   ]
  },
  {
   "cell_type": "code",
   "execution_count": 1025,
   "metadata": {},
   "outputs": [
    {
     "data": {
      "text/html": [
       "<div>\n",
       "<style scoped>\n",
       "    .dataframe tbody tr th:only-of-type {\n",
       "        vertical-align: middle;\n",
       "    }\n",
       "\n",
       "    .dataframe tbody tr th {\n",
       "        vertical-align: top;\n",
       "    }\n",
       "\n",
       "    .dataframe thead th {\n",
       "        text-align: right;\n",
       "    }\n",
       "</style>\n",
       "<table border=\"1\" class=\"dataframe\">\n",
       "  <thead>\n",
       "    <tr style=\"text-align: right;\">\n",
       "      <th></th>\n",
       "      <th>Administrative</th>\n",
       "      <th>Administrative_Duration</th>\n",
       "      <th>Informational</th>\n",
       "      <th>Informational_Duration</th>\n",
       "      <th>ProductRelated</th>\n",
       "      <th>ProductRelated_Duration</th>\n",
       "      <th>BounceRates</th>\n",
       "      <th>ExitRates</th>\n",
       "      <th>PageValues</th>\n",
       "      <th>SpecialDay</th>\n",
       "      <th>Month</th>\n",
       "      <th>OperatingSystems</th>\n",
       "      <th>Browser</th>\n",
       "      <th>Region</th>\n",
       "      <th>TrafficType</th>\n",
       "      <th>VisitorType</th>\n",
       "      <th>Weekend</th>\n",
       "      <th>Revenue</th>\n",
       "    </tr>\n",
       "  </thead>\n",
       "  <tbody>\n",
       "    <tr>\n",
       "      <th>0</th>\n",
       "      <td>0</td>\n",
       "      <td>0.0</td>\n",
       "      <td>0</td>\n",
       "      <td>0.0</td>\n",
       "      <td>1</td>\n",
       "      <td>0.000000</td>\n",
       "      <td>0.20</td>\n",
       "      <td>0.20</td>\n",
       "      <td>0.0</td>\n",
       "      <td>0.0</td>\n",
       "      <td>Feb</td>\n",
       "      <td>1</td>\n",
       "      <td>1</td>\n",
       "      <td>1</td>\n",
       "      <td>1</td>\n",
       "      <td>Returning_Visitor</td>\n",
       "      <td>False</td>\n",
       "      <td>False</td>\n",
       "    </tr>\n",
       "    <tr>\n",
       "      <th>1</th>\n",
       "      <td>0</td>\n",
       "      <td>0.0</td>\n",
       "      <td>0</td>\n",
       "      <td>0.0</td>\n",
       "      <td>2</td>\n",
       "      <td>64.000000</td>\n",
       "      <td>0.00</td>\n",
       "      <td>0.10</td>\n",
       "      <td>0.0</td>\n",
       "      <td>0.0</td>\n",
       "      <td>Feb</td>\n",
       "      <td>2</td>\n",
       "      <td>2</td>\n",
       "      <td>1</td>\n",
       "      <td>2</td>\n",
       "      <td>Returning_Visitor</td>\n",
       "      <td>False</td>\n",
       "      <td>False</td>\n",
       "    </tr>\n",
       "    <tr>\n",
       "      <th>2</th>\n",
       "      <td>0</td>\n",
       "      <td>0.0</td>\n",
       "      <td>0</td>\n",
       "      <td>0.0</td>\n",
       "      <td>1</td>\n",
       "      <td>0.000000</td>\n",
       "      <td>0.20</td>\n",
       "      <td>0.20</td>\n",
       "      <td>0.0</td>\n",
       "      <td>0.0</td>\n",
       "      <td>Feb</td>\n",
       "      <td>4</td>\n",
       "      <td>1</td>\n",
       "      <td>9</td>\n",
       "      <td>3</td>\n",
       "      <td>Returning_Visitor</td>\n",
       "      <td>False</td>\n",
       "      <td>False</td>\n",
       "    </tr>\n",
       "    <tr>\n",
       "      <th>3</th>\n",
       "      <td>0</td>\n",
       "      <td>0.0</td>\n",
       "      <td>0</td>\n",
       "      <td>0.0</td>\n",
       "      <td>2</td>\n",
       "      <td>2.666667</td>\n",
       "      <td>0.05</td>\n",
       "      <td>0.14</td>\n",
       "      <td>0.0</td>\n",
       "      <td>0.0</td>\n",
       "      <td>Feb</td>\n",
       "      <td>3</td>\n",
       "      <td>2</td>\n",
       "      <td>2</td>\n",
       "      <td>4</td>\n",
       "      <td>Returning_Visitor</td>\n",
       "      <td>False</td>\n",
       "      <td>False</td>\n",
       "    </tr>\n",
       "    <tr>\n",
       "      <th>4</th>\n",
       "      <td>0</td>\n",
       "      <td>0.0</td>\n",
       "      <td>0</td>\n",
       "      <td>0.0</td>\n",
       "      <td>10</td>\n",
       "      <td>627.500000</td>\n",
       "      <td>0.02</td>\n",
       "      <td>0.05</td>\n",
       "      <td>0.0</td>\n",
       "      <td>0.0</td>\n",
       "      <td>Feb</td>\n",
       "      <td>3</td>\n",
       "      <td>3</td>\n",
       "      <td>1</td>\n",
       "      <td>4</td>\n",
       "      <td>Returning_Visitor</td>\n",
       "      <td>True</td>\n",
       "      <td>False</td>\n",
       "    </tr>\n",
       "  </tbody>\n",
       "</table>\n",
       "</div>"
      ],
      "text/plain": [
       "   Administrative  Administrative_Duration  Informational  \\\n",
       "0               0                      0.0              0   \n",
       "1               0                      0.0              0   \n",
       "2               0                      0.0              0   \n",
       "3               0                      0.0              0   \n",
       "4               0                      0.0              0   \n",
       "\n",
       "   Informational_Duration  ProductRelated  ProductRelated_Duration  \\\n",
       "0                     0.0               1                 0.000000   \n",
       "1                     0.0               2                64.000000   \n",
       "2                     0.0               1                 0.000000   \n",
       "3                     0.0               2                 2.666667   \n",
       "4                     0.0              10               627.500000   \n",
       "\n",
       "   BounceRates  ExitRates  PageValues  SpecialDay Month  OperatingSystems  \\\n",
       "0         0.20       0.20         0.0         0.0   Feb                 1   \n",
       "1         0.00       0.10         0.0         0.0   Feb                 2   \n",
       "2         0.20       0.20         0.0         0.0   Feb                 4   \n",
       "3         0.05       0.14         0.0         0.0   Feb                 3   \n",
       "4         0.02       0.05         0.0         0.0   Feb                 3   \n",
       "\n",
       "   Browser  Region  TrafficType        VisitorType  Weekend  Revenue  \n",
       "0        1       1            1  Returning_Visitor    False    False  \n",
       "1        2       1            2  Returning_Visitor    False    False  \n",
       "2        1       9            3  Returning_Visitor    False    False  \n",
       "3        2       2            4  Returning_Visitor    False    False  \n",
       "4        3       1            4  Returning_Visitor     True    False  "
      ]
     },
     "execution_count": 1025,
     "metadata": {},
     "output_type": "execute_result"
    }
   ],
   "source": [
    "data = pd.read_csv('coding_round_data.csv')\n",
    "data.head()"
   ]
  },
  {
   "cell_type": "code",
   "execution_count": 1026,
   "metadata": {},
   "outputs": [
    {
     "data": {
      "text/plain": [
       "0.15474452554744525"
      ]
     },
     "execution_count": 1026,
     "metadata": {},
     "output_type": "execute_result"
    }
   ],
   "source": [
    "# This is the proportion of positive class labels\n",
    "data['Revenue'].mean()"
   ]
  },
  {
   "cell_type": "code",
   "execution_count": 1027,
   "metadata": {},
   "outputs": [],
   "source": [
    "from sklearn.model_selection import StratifiedShuffleSplit\n",
    "SEED = 12345 # To ensure we don't leak data between RAM resets (like shutting off my computer)\n",
    "splitter = StratifiedShuffleSplit(n_splits = 1, test_size = .2, random_state = SEED)\n",
    "train, test = list( splitter.split(X = data, y = data['Revenue']) )[0]"
   ]
  },
  {
   "cell_type": "code",
   "execution_count": 1028,
   "metadata": {},
   "outputs": [
    {
     "data": {
      "text/plain": [
       "True"
      ]
     },
     "execution_count": 1028,
     "metadata": {},
     "output_type": "execute_result"
    }
   ],
   "source": [
    "# To make sure the proportions of positive class labels in train, test are the same\n",
    "np.isclose(data.iloc[test,:]['Revenue'].mean(), data.iloc[train,:]['Revenue'].mean(), atol = .001)"
   ]
  },
  {
   "cell_type": "code",
   "execution_count": 1029,
   "metadata": {},
   "outputs": [],
   "source": [
    "train_data = data.iloc[train,:]\n",
    "test_data = data.iloc[test,:]"
   ]
  },
  {
   "cell_type": "code",
   "execution_count": 1030,
   "metadata": {},
   "outputs": [
    {
     "data": {
      "text/plain": [
       "May     2675\n",
       "Nov     2407\n",
       "Mar     1532\n",
       "Dec     1365\n",
       "Oct      439\n",
       "Jul      361\n",
       "Sep      350\n",
       "Aug      342\n",
       "June     241\n",
       "Feb      152\n",
       "Name: Month, dtype: int64"
      ]
     },
     "execution_count": 1030,
     "metadata": {},
     "output_type": "execute_result"
    }
   ],
   "source": [
    "train_data['Month'].value_counts()\n",
    "# Looks like there are only 10 months reported. We will start by encoding the months variable so that \n",
    "# the months are circular, and our feature will include information that December is closer to January\n",
    "# than June. We can make it circular by replacing the Month value with the cosine & sine of the month's\n",
    "# proportional distance between 0 and 2pi (ex. Jan=0=2pi, Dec=11pi/6=2pi-pi/12)"
   ]
  },
  {
   "cell_type": "code",
   "execution_count": 1031,
   "metadata": {},
   "outputs": [],
   "source": [
    "from utils import Pipeline\n",
    "\n",
    "pipeline = Pipeline()"
   ]
  },
  {
   "cell_type": "code",
   "execution_count": 1032,
   "metadata": {},
   "outputs": [],
   "source": [
    "# make_months_circular function moved over to common utils.py file for pickling purposes\n",
    "from utils import make_months_circular\n",
    "\n",
    "train_data = make_months_circular(train_data)\n",
    "pipeline.add(make_months_circular)"
   ]
  },
  {
   "cell_type": "code",
   "execution_count": 1033,
   "metadata": {},
   "outputs": [
    {
     "data": {
      "text/plain": [
       "Administrative               int64\n",
       "Administrative_Duration    float64\n",
       "Informational                int64\n",
       "Informational_Duration     float64\n",
       "ProductRelated               int64\n",
       "ProductRelated_Duration    float64\n",
       "BounceRates                float64\n",
       "ExitRates                  float64\n",
       "PageValues                 float64\n",
       "SpecialDay                 float64\n",
       "OperatingSystems             int64\n",
       "Browser                      int64\n",
       "Region                       int64\n",
       "TrafficType                  int64\n",
       "VisitorType                 object\n",
       "Weekend                       bool\n",
       "Revenue                       bool\n",
       "Month_x                    float64\n",
       "Month_y                    float64\n",
       "dtype: object"
      ]
     },
     "execution_count": 1033,
     "metadata": {},
     "output_type": "execute_result"
    }
   ],
   "source": [
    "# We now check the data types to see if any types need changing (int -> categorical, etc)\n",
    "train_data.dtypes"
   ]
  },
  {
   "cell_type": "code",
   "execution_count": 1034,
   "metadata": {},
   "outputs": [],
   "source": [
    "# We see that some of the data types still need some changing. (1, 2) as integers are different \n",
    "# from (1, 2) as categories (unordered).\n",
    "\n",
    "from utils import make_data_categorical\n",
    "\n",
    "make_data_categorical(train_data)\n",
    "pipeline.add(make_data_categorical)"
   ]
  },
  {
   "cell_type": "code",
   "execution_count": 1035,
   "metadata": {},
   "outputs": [
    {
     "data": {
      "text/plain": [
       "Administrative                int64\n",
       "Administrative_Duration     float64\n",
       "Informational                 int64\n",
       "Informational_Duration      float64\n",
       "ProductRelated                int64\n",
       "ProductRelated_Duration     float64\n",
       "BounceRates                 float64\n",
       "ExitRates                   float64\n",
       "PageValues                  float64\n",
       "SpecialDay                  float64\n",
       "OperatingSystems           category\n",
       "Browser                    category\n",
       "Region                     category\n",
       "TrafficType                category\n",
       "VisitorType                category\n",
       "Weekend                        bool\n",
       "Revenue                        bool\n",
       "Month_x                     float64\n",
       "Month_y                     float64\n",
       "dtype: object"
      ]
     },
     "execution_count": 1035,
     "metadata": {},
     "output_type": "execute_result"
    }
   ],
   "source": [
    "train_data.dtypes\n",
    "\n",
    "# We can see now that the data types for the wrongly int-casted data types are fixed as categorical"
   ]
  },
  {
   "cell_type": "code",
   "execution_count": 1036,
   "metadata": {},
   "outputs": [
    {
     "data": {
      "text/plain": [
       "<AxesSubplot:>"
      ]
     },
     "execution_count": 1036,
     "metadata": {},
     "output_type": "execute_result"
    },
    {
     "data": {
      "image/png": "[encoded data removed]",
      "text/plain": [
       "<Figure size 432x288 with 1 Axes>"
      ]
     },
     "metadata": {
      "needs_background": "light"
     },
     "output_type": "display_data"
    }
   ],
   "source": [
    "# Now I will do some final checking up on some of the other features of interest.\n",
    "train_data['SpecialDay'].hist()"
   ]
  },
  {
   "cell_type": "code",
   "execution_count": 1037,
   "metadata": {},
   "outputs": [
    {
     "data": {
      "text/plain": [
       "0.0    8868\n",
       "0.6     274\n",
       "0.8     252\n",
       "0.4     200\n",
       "0.2     140\n",
       "1.0     130\n",
       "Name: SpecialDay, dtype: int64"
      ]
     },
     "execution_count": 1037,
     "metadata": {},
     "output_type": "execute_result"
    }
   ],
   "source": [
    "train_data['SpecialDay'].value_counts()\n",
    "# Since SpecialDay has a fixed number of values, we will look at proportions of buys given the date falls\n",
    "# on a day with the given SpecialDay value"
   ]
  },
  {
   "cell_type": "code",
   "execution_count": 1038,
   "metadata": {},
   "outputs": [
    {
     "data": {
      "text/plain": [
       "SpecialDay\n",
       "0.0    0.164975\n",
       "0.2    0.064286\n",
       "0.4    0.055000\n",
       "0.6    0.087591\n",
       "0.8    0.039683\n",
       "1.0    0.069231\n",
       "Name: Revenue, dtype: float64"
      ]
     },
     "execution_count": 1038,
     "metadata": {},
     "output_type": "execute_result"
    }
   ],
   "source": [
    "train_data.groupby(['SpecialDay'])['Revenue'].mean()\n",
    "# It initially seems like the proportion of buys given proximity to a special date goes down \n",
    "# compared to not having a special day coming up. There is a Region variable. We can test if these \n",
    "# \"Special Days\" are special in only some regions (ie. Diwali or Chinese New Year may not be as \n",
    "# special/popular in America as they are in their respective regions of origin.)"
   ]
  },
  {
   "cell_type": "code",
   "execution_count": 1039,
   "metadata": {},
   "outputs": [
    {
     "data": {
      "text/plain": [
       "Region  SpecialDay\n",
       "1       0.0           0.178198\n",
       "        0.2           0.017241\n",
       "        0.4           0.028169\n",
       "        0.6           0.076271\n",
       "        0.8           0.009804\n",
       "        1.0           0.125000\n",
       "2       0.0           0.172414\n",
       "        0.2           0.125000\n",
       "        0.4           0.142857\n",
       "        0.6           0.238095\n",
       "        0.8           0.071429\n",
       "        1.0           0.071429\n",
       "3       0.0           0.157522\n",
       "        0.2           0.032258\n",
       "        0.4           0.000000\n",
       "        0.6           0.033898\n",
       "        0.8           0.108696\n",
       "        1.0           0.030303\n",
       "4       0.0           0.154299\n",
       "        0.2           0.083333\n",
       "        0.4           0.000000\n",
       "        0.6           0.208333\n",
       "        0.8           0.000000\n",
       "        1.0           0.000000\n",
       "5       0.0           0.152466\n",
       "        0.2           0.000000\n",
       "        0.4           0.142857\n",
       "        0.6           0.000000\n",
       "        0.8           0.000000\n",
       "        1.0           0.000000\n",
       "6       0.0           0.136752\n",
       "        0.2           0.100000\n",
       "        0.4           0.066667\n",
       "        0.6           0.000000\n",
       "        0.8           0.000000\n",
       "        1.0           0.000000\n",
       "7       0.0           0.176471\n",
       "        0.2           0.000000\n",
       "        0.4           0.000000\n",
       "        0.6           0.142857\n",
       "        0.8           0.000000\n",
       "        1.0           0.058824\n",
       "8       0.0           0.122642\n",
       "        0.2           0.500000\n",
       "        0.4           0.285714\n",
       "        0.6           0.000000\n",
       "        0.8           0.111111\n",
       "        1.0           0.000000\n",
       "9       0.0           0.155844\n",
       "        0.2           1.000000\n",
       "        0.4           0.000000\n",
       "        0.6           0.125000\n",
       "        0.8           0.166667\n",
       "        1.0           0.250000\n",
       "Name: Revenue, dtype: float64"
      ]
     },
     "execution_count": 1039,
     "metadata": {},
     "output_type": "execute_result"
    }
   ],
   "source": [
    "train_data.groupby(['Region', 'SpecialDay'])['Revenue'].mean()\n",
    "# It looks like we get mixed results for whether a region considers a day \"Special\". Without knowing\n",
    "# the actual special days (knowing whether the day is halloween, Chinese New Year, etc.) and regions,\n",
    "# it will likely be better to just leave as is and use regularization down the line. Another problem\n",
    "# is that as we group by more variables, we get smaller sample sizes, so I want to avoid being\n",
    "# overconfident at this level."
   ]
  },
  {
   "cell_type": "code",
   "execution_count": 1040,
   "metadata": {},
   "outputs": [
    {
     "data": {
      "text/html": [
       "<div>\n",
       "<style scoped>\n",
       "    .dataframe tbody tr th:only-of-type {\n",
       "        vertical-align: middle;\n",
       "    }\n",
       "\n",
       "    .dataframe tbody tr th {\n",
       "        vertical-align: top;\n",
       "    }\n",
       "\n",
       "    .dataframe thead tr th {\n",
       "        text-align: left;\n",
       "    }\n",
       "\n",
       "    .dataframe thead tr:last-of-type th {\n",
       "        text-align: right;\n",
       "    }\n",
       "</style>\n",
       "<table border=\"1\" class=\"dataframe\">\n",
       "  <thead>\n",
       "    <tr>\n",
       "      <th></th>\n",
       "      <th colspan=\"8\" halign=\"left\">Administrative</th>\n",
       "      <th colspan=\"5\" halign=\"left\">Informational</th>\n",
       "      <th colspan=\"8\" halign=\"left\">ProductRelated</th>\n",
       "    </tr>\n",
       "    <tr>\n",
       "      <th></th>\n",
       "      <th>count</th>\n",
       "      <th>mean</th>\n",
       "      <th>std</th>\n",
       "      <th>min</th>\n",
       "      <th>25%</th>\n",
       "      <th>50%</th>\n",
       "      <th>75%</th>\n",
       "      <th>max</th>\n",
       "      <th>count</th>\n",
       "      <th>mean</th>\n",
       "      <th>...</th>\n",
       "      <th>75%</th>\n",
       "      <th>max</th>\n",
       "      <th>count</th>\n",
       "      <th>mean</th>\n",
       "      <th>std</th>\n",
       "      <th>min</th>\n",
       "      <th>25%</th>\n",
       "      <th>50%</th>\n",
       "      <th>75%</th>\n",
       "      <th>max</th>\n",
       "    </tr>\n",
       "    <tr>\n",
       "      <th>Revenue</th>\n",
       "      <th></th>\n",
       "      <th></th>\n",
       "      <th></th>\n",
       "      <th></th>\n",
       "      <th></th>\n",
       "      <th></th>\n",
       "      <th></th>\n",
       "      <th></th>\n",
       "      <th></th>\n",
       "      <th></th>\n",
       "      <th></th>\n",
       "      <th></th>\n",
       "      <th></th>\n",
       "      <th></th>\n",
       "      <th></th>\n",
       "      <th></th>\n",
       "      <th></th>\n",
       "      <th></th>\n",
       "      <th></th>\n",
       "      <th></th>\n",
       "      <th></th>\n",
       "    </tr>\n",
       "  </thead>\n",
       "  <tbody>\n",
       "    <tr>\n",
       "      <th>False</th>\n",
       "      <td>8338.0</td>\n",
       "      <td>2.114416</td>\n",
       "      <td>3.181127</td>\n",
       "      <td>0.0</td>\n",
       "      <td>0.0</td>\n",
       "      <td>0.0</td>\n",
       "      <td>3.0</td>\n",
       "      <td>27.0</td>\n",
       "      <td>8338.0</td>\n",
       "      <td>0.456344</td>\n",
       "      <td>...</td>\n",
       "      <td>0.0</td>\n",
       "      <td>24.0</td>\n",
       "      <td>8338.0</td>\n",
       "      <td>28.626289</td>\n",
       "      <td>40.433096</td>\n",
       "      <td>0.0</td>\n",
       "      <td>6.00</td>\n",
       "      <td>16.0</td>\n",
       "      <td>35.0</td>\n",
       "      <td>705.0</td>\n",
       "    </tr>\n",
       "    <tr>\n",
       "      <th>True</th>\n",
       "      <td>1526.0</td>\n",
       "      <td>3.397772</td>\n",
       "      <td>3.776507</td>\n",
       "      <td>0.0</td>\n",
       "      <td>0.0</td>\n",
       "      <td>2.0</td>\n",
       "      <td>5.0</td>\n",
       "      <td>26.0</td>\n",
       "      <td>1526.0</td>\n",
       "      <td>0.768676</td>\n",
       "      <td>...</td>\n",
       "      <td>1.0</td>\n",
       "      <td>12.0</td>\n",
       "      <td>1526.0</td>\n",
       "      <td>48.450852</td>\n",
       "      <td>58.110408</td>\n",
       "      <td>0.0</td>\n",
       "      <td>15.25</td>\n",
       "      <td>29.0</td>\n",
       "      <td>57.0</td>\n",
       "      <td>534.0</td>\n",
       "    </tr>\n",
       "  </tbody>\n",
       "</table>\n",
       "<p>2 rows × 24 columns</p>\n",
       "</div>"
      ],
      "text/plain": [
       "        Administrative                                                \\\n",
       "                 count      mean       std  min  25%  50%  75%   max   \n",
       "Revenue                                                                \n",
       "False           8338.0  2.114416  3.181127  0.0  0.0  0.0  3.0  27.0   \n",
       "True            1526.0  3.397772  3.776507  0.0  0.0  2.0  5.0  26.0   \n",
       "\n",
       "        Informational            ...            ProductRelated             \\\n",
       "                count      mean  ...  75%   max          count       mean   \n",
       "Revenue                          ...                                        \n",
       "False          8338.0  0.456344  ...  0.0  24.0         8338.0  28.626289   \n",
       "True           1526.0  0.768676  ...  1.0  12.0         1526.0  48.450852   \n",
       "\n",
       "                                                   \n",
       "               std  min    25%   50%   75%    max  \n",
       "Revenue                                            \n",
       "False    40.433096  0.0   6.00  16.0  35.0  705.0  \n",
       "True     58.110408  0.0  15.25  29.0  57.0  534.0  \n",
       "\n",
       "[2 rows x 24 columns]"
      ]
     },
     "execution_count": 1040,
     "metadata": {},
     "output_type": "execute_result"
    }
   ],
   "source": [
    "# I found that the models were performing poorly using this data, and decided to do \n",
    "# further feature transformation. I had another look at the page visit data.\n",
    "train_data.groupby('Revenue')[['Administrative', 'Informational', 'ProductRelated']].describe()"
   ]
  },
  {
   "cell_type": "markdown",
   "metadata": {},
   "source": [
    "Administrative & Informational seem to provide little discriminatory power by themselves, while increasing the dimensionality of the model. ProductRelated seems to show that the more page interactions there are, the more likely someone is to buy a product. I can sum up the page visits & time spent columns and transform those 6 columns into 2 (total_visits, total_time). Let's first see if this seems to have discriminatory power."
   ]
  },
  {
   "cell_type": "code",
   "execution_count": 1041,
   "metadata": {},
   "outputs": [],
   "source": [
    "tmp = train_data.copy()"
   ]
  },
  {
   "cell_type": "code",
   "execution_count": 1042,
   "metadata": {},
   "outputs": [],
   "source": [
    "tmp['total_time'] = tmp[['Administrative_Duration', 'Informational_Duration', 'ProductRelated_Duration']].sum(axis=1)"
   ]
  },
  {
   "cell_type": "code",
   "execution_count": 1043,
   "metadata": {},
   "outputs": [],
   "source": [
    "tmp['total_visits'] = tmp[['Administrative', 'Informational', 'ProductRelated']].sum(axis=1)"
   ]
  },
  {
   "cell_type": "code",
   "execution_count": 1044,
   "metadata": {},
   "outputs": [
    {
     "data": {
      "text/html": [
       "<div>\n",
       "<style scoped>\n",
       "    .dataframe tbody tr th:only-of-type {\n",
       "        vertical-align: middle;\n",
       "    }\n",
       "\n",
       "    .dataframe tbody tr th {\n",
       "        vertical-align: top;\n",
       "    }\n",
       "\n",
       "    .dataframe thead th {\n",
       "        text-align: right;\n",
       "    }\n",
       "</style>\n",
       "<table border=\"1\" class=\"dataframe\">\n",
       "  <thead>\n",
       "    <tr style=\"text-align: right;\">\n",
       "      <th></th>\n",
       "      <th>count</th>\n",
       "      <th>mean</th>\n",
       "      <th>std</th>\n",
       "      <th>min</th>\n",
       "      <th>25%</th>\n",
       "      <th>50%</th>\n",
       "      <th>75%</th>\n",
       "      <th>max</th>\n",
       "    </tr>\n",
       "    <tr>\n",
       "      <th>Revenue</th>\n",
       "      <th></th>\n",
       "      <th></th>\n",
       "      <th></th>\n",
       "      <th></th>\n",
       "      <th></th>\n",
       "      <th></th>\n",
       "      <th></th>\n",
       "      <th></th>\n",
       "    </tr>\n",
       "  </thead>\n",
       "  <tbody>\n",
       "    <tr>\n",
       "      <th>False</th>\n",
       "      <td>8338.0</td>\n",
       "      <td>1172.261933</td>\n",
       "      <td>1933.107092</td>\n",
       "      <td>0.0</td>\n",
       "      <td>182.718750</td>\n",
       "      <td>586.494048</td>\n",
       "      <td>1463.066154</td>\n",
       "      <td>69921.647230</td>\n",
       "    </tr>\n",
       "    <tr>\n",
       "      <th>True</th>\n",
       "      <td>1526.0</td>\n",
       "      <td>2055.780752</td>\n",
       "      <td>2418.913179</td>\n",
       "      <td>0.0</td>\n",
       "      <td>621.653869</td>\n",
       "      <td>1251.929365</td>\n",
       "      <td>2524.010592</td>\n",
       "      <td>28450.201097</td>\n",
       "    </tr>\n",
       "  </tbody>\n",
       "</table>\n",
       "</div>"
      ],
      "text/plain": [
       "          count         mean          std  min         25%          50%  \\\n",
       "Revenue                                                                   \n",
       "False    8338.0  1172.261933  1933.107092  0.0  182.718750   586.494048   \n",
       "True     1526.0  2055.780752  2418.913179  0.0  621.653869  1251.929365   \n",
       "\n",
       "                 75%           max  \n",
       "Revenue                             \n",
       "False    1463.066154  69921.647230  \n",
       "True     2524.010592  28450.201097  "
      ]
     },
     "execution_count": 1044,
     "metadata": {},
     "output_type": "execute_result"
    }
   ],
   "source": [
    "tmp.groupby('Revenue')['total_time'].describe()\n",
    "# As expected, the total time spent is much higher given a user bought an item"
   ]
  },
  {
   "cell_type": "code",
   "execution_count": 1045,
   "metadata": {},
   "outputs": [
    {
     "data": {
      "text/html": [
       "<div>\n",
       "<style scoped>\n",
       "    .dataframe tbody tr th:only-of-type {\n",
       "        vertical-align: middle;\n",
       "    }\n",
       "\n",
       "    .dataframe tbody tr th {\n",
       "        vertical-align: top;\n",
       "    }\n",
       "\n",
       "    .dataframe thead th {\n",
       "        text-align: right;\n",
       "    }\n",
       "</style>\n",
       "<table border=\"1\" class=\"dataframe\">\n",
       "  <thead>\n",
       "    <tr style=\"text-align: right;\">\n",
       "      <th></th>\n",
       "      <th>count</th>\n",
       "      <th>mean</th>\n",
       "      <th>std</th>\n",
       "      <th>min</th>\n",
       "      <th>25%</th>\n",
       "      <th>50%</th>\n",
       "      <th>75%</th>\n",
       "      <th>max</th>\n",
       "    </tr>\n",
       "    <tr>\n",
       "      <th>Revenue</th>\n",
       "      <th></th>\n",
       "      <th></th>\n",
       "      <th></th>\n",
       "      <th></th>\n",
       "      <th></th>\n",
       "      <th></th>\n",
       "      <th></th>\n",
       "      <th></th>\n",
       "    </tr>\n",
       "  </thead>\n",
       "  <tbody>\n",
       "    <tr>\n",
       "      <th>False</th>\n",
       "      <td>8338.0</td>\n",
       "      <td>31.19705</td>\n",
       "      <td>42.376720</td>\n",
       "      <td>0.0</td>\n",
       "      <td>7.0</td>\n",
       "      <td>18.0</td>\n",
       "      <td>38.0</td>\n",
       "      <td>746.0</td>\n",
       "    </tr>\n",
       "    <tr>\n",
       "      <th>True</th>\n",
       "      <td>1526.0</td>\n",
       "      <td>52.61730</td>\n",
       "      <td>60.298202</td>\n",
       "      <td>1.0</td>\n",
       "      <td>18.0</td>\n",
       "      <td>32.0</td>\n",
       "      <td>63.0</td>\n",
       "      <td>543.0</td>\n",
       "    </tr>\n",
       "  </tbody>\n",
       "</table>\n",
       "</div>"
      ],
      "text/plain": [
       "          count      mean        std  min   25%   50%   75%    max\n",
       "Revenue                                                           \n",
       "False    8338.0  31.19705  42.376720  0.0   7.0  18.0  38.0  746.0\n",
       "True     1526.0  52.61730  60.298202  1.0  18.0  32.0  63.0  543.0"
      ]
     },
     "execution_count": 1045,
     "metadata": {},
     "output_type": "execute_result"
    }
   ],
   "source": [
    "tmp.groupby('Revenue')['total_visits'].describe()\n",
    "# As expected, the total number of page visits is also much higher given a user bought an item"
   ]
  },
  {
   "cell_type": "markdown",
   "metadata": {},
   "source": [
    "We will now check the correlation between total_time and total_visits. If the correlation is strong enough, we don't need to include both of them."
   ]
  },
  {
   "cell_type": "code",
   "execution_count": 1046,
   "metadata": {},
   "outputs": [
    {
     "data": {
      "text/plain": [
       "<matplotlib.collections.PathCollection at 0x17a584c3580>"
      ]
     },
     "execution_count": 1046,
     "metadata": {},
     "output_type": "execute_result"
    },
    {
     "data": {
      "image/png": "[encoded data removed]",
      "text/plain": [
       "<Figure size 432x288 with 1 Axes>"
      ]
     },
     "metadata": {
      "needs_background": "light"
     },
     "output_type": "display_data"
    }
   ],
   "source": [
    "plt.scatter(tmp['total_visits'], tmp['total_time'])"
   ]
  },
  {
   "cell_type": "markdown",
   "metadata": {},
   "source": [
    "The correlation is quite strong, as expected, so I will only include the total_time column"
   ]
  },
  {
   "cell_type": "code",
   "execution_count": 1047,
   "metadata": {},
   "outputs": [],
   "source": [
    "from utils import consolidate_session_data\n",
    "\n",
    "pipeline.add(consolidate_session_data)"
   ]
  },
  {
   "cell_type": "code",
   "execution_count": 1048,
   "metadata": {},
   "outputs": [
    {
     "data": {
      "text/html": [
       "<div>\n",
       "<style scoped>\n",
       "    .dataframe tbody tr th:only-of-type {\n",
       "        vertical-align: middle;\n",
       "    }\n",
       "\n",
       "    .dataframe tbody tr th {\n",
       "        vertical-align: top;\n",
       "    }\n",
       "\n",
       "    .dataframe thead th {\n",
       "        text-align: right;\n",
       "    }\n",
       "</style>\n",
       "<table border=\"1\" class=\"dataframe\">\n",
       "  <thead>\n",
       "    <tr style=\"text-align: right;\">\n",
       "      <th></th>\n",
       "      <th>BounceRates</th>\n",
       "      <th>ExitRates</th>\n",
       "      <th>PageValues</th>\n",
       "      <th>SpecialDay</th>\n",
       "      <th>OperatingSystems</th>\n",
       "      <th>Browser</th>\n",
       "      <th>Region</th>\n",
       "      <th>TrafficType</th>\n",
       "      <th>VisitorType</th>\n",
       "      <th>Weekend</th>\n",
       "      <th>Revenue</th>\n",
       "      <th>Month_x</th>\n",
       "      <th>Month_y</th>\n",
       "      <th>total_time</th>\n",
       "    </tr>\n",
       "  </thead>\n",
       "  <tbody>\n",
       "    <tr>\n",
       "      <th>2796</th>\n",
       "      <td>0.200000</td>\n",
       "      <td>0.200000</td>\n",
       "      <td>0.000000</td>\n",
       "      <td>0.0</td>\n",
       "      <td>1</td>\n",
       "      <td>1</td>\n",
       "      <td>3</td>\n",
       "      <td>3</td>\n",
       "      <td>Returning_Visitor</td>\n",
       "      <td>False</td>\n",
       "      <td>False</td>\n",
       "      <td>-5.000000e-01</td>\n",
       "      <td>0.866025</td>\n",
       "      <td>0.000000</td>\n",
       "    </tr>\n",
       "    <tr>\n",
       "      <th>5965</th>\n",
       "      <td>0.009091</td>\n",
       "      <td>0.022727</td>\n",
       "      <td>31.991814</td>\n",
       "      <td>0.0</td>\n",
       "      <td>4</td>\n",
       "      <td>1</td>\n",
       "      <td>1</td>\n",
       "      <td>2</td>\n",
       "      <td>Returning_Visitor</td>\n",
       "      <td>False</td>\n",
       "      <td>True</td>\n",
       "      <td>-1.836970e-16</td>\n",
       "      <td>-1.000000</td>\n",
       "      <td>462.383333</td>\n",
       "    </tr>\n",
       "    <tr>\n",
       "      <th>11334</th>\n",
       "      <td>0.001481</td>\n",
       "      <td>0.042222</td>\n",
       "      <td>27.976329</td>\n",
       "      <td>0.0</td>\n",
       "      <td>2</td>\n",
       "      <td>2</td>\n",
       "      <td>1</td>\n",
       "      <td>2</td>\n",
       "      <td>Returning_Visitor</td>\n",
       "      <td>False</td>\n",
       "      <td>False</td>\n",
       "      <td>5.000000e-01</td>\n",
       "      <td>-0.866025</td>\n",
       "      <td>846.125000</td>\n",
       "    </tr>\n",
       "    <tr>\n",
       "      <th>2627</th>\n",
       "      <td>0.016000</td>\n",
       "      <td>0.040800</td>\n",
       "      <td>0.000000</td>\n",
       "      <td>0.8</td>\n",
       "      <td>2</td>\n",
       "      <td>2</td>\n",
       "      <td>3</td>\n",
       "      <td>2</td>\n",
       "      <td>Returning_Visitor</td>\n",
       "      <td>False</td>\n",
       "      <td>False</td>\n",
       "      <td>-5.000000e-01</td>\n",
       "      <td>0.866025</td>\n",
       "      <td>591.750000</td>\n",
       "    </tr>\n",
       "    <tr>\n",
       "      <th>937</th>\n",
       "      <td>0.000000</td>\n",
       "      <td>0.022222</td>\n",
       "      <td>0.000000</td>\n",
       "      <td>0.0</td>\n",
       "      <td>2</td>\n",
       "      <td>2</td>\n",
       "      <td>1</td>\n",
       "      <td>8</td>\n",
       "      <td>New_Visitor</td>\n",
       "      <td>False</td>\n",
       "      <td>False</td>\n",
       "      <td>5.000000e-01</td>\n",
       "      <td>0.866025</td>\n",
       "      <td>99.500000</td>\n",
       "    </tr>\n",
       "    <tr>\n",
       "      <th>...</th>\n",
       "      <td>...</td>\n",
       "      <td>...</td>\n",
       "      <td>...</td>\n",
       "      <td>...</td>\n",
       "      <td>...</td>\n",
       "      <td>...</td>\n",
       "      <td>...</td>\n",
       "      <td>...</td>\n",
       "      <td>...</td>\n",
       "      <td>...</td>\n",
       "      <td>...</td>\n",
       "      <td>...</td>\n",
       "      <td>...</td>\n",
       "      <td>...</td>\n",
       "    </tr>\n",
       "    <tr>\n",
       "      <th>10258</th>\n",
       "      <td>0.000000</td>\n",
       "      <td>0.007143</td>\n",
       "      <td>31.388862</td>\n",
       "      <td>0.0</td>\n",
       "      <td>1</td>\n",
       "      <td>2</td>\n",
       "      <td>1</td>\n",
       "      <td>2</td>\n",
       "      <td>Other</td>\n",
       "      <td>True</td>\n",
       "      <td>False</td>\n",
       "      <td>8.660254e-01</td>\n",
       "      <td>-0.500000</td>\n",
       "      <td>601.333333</td>\n",
       "    </tr>\n",
       "    <tr>\n",
       "      <th>398</th>\n",
       "      <td>0.200000</td>\n",
       "      <td>0.200000</td>\n",
       "      <td>0.000000</td>\n",
       "      <td>0.0</td>\n",
       "      <td>2</td>\n",
       "      <td>4</td>\n",
       "      <td>1</td>\n",
       "      <td>1</td>\n",
       "      <td>Returning_Visitor</td>\n",
       "      <td>False</td>\n",
       "      <td>False</td>\n",
       "      <td>5.000000e-01</td>\n",
       "      <td>0.866025</td>\n",
       "      <td>0.000000</td>\n",
       "    </tr>\n",
       "    <tr>\n",
       "      <th>3292</th>\n",
       "      <td>0.000000</td>\n",
       "      <td>0.019048</td>\n",
       "      <td>0.000000</td>\n",
       "      <td>0.0</td>\n",
       "      <td>2</td>\n",
       "      <td>2</td>\n",
       "      <td>2</td>\n",
       "      <td>3</td>\n",
       "      <td>Returning_Visitor</td>\n",
       "      <td>False</td>\n",
       "      <td>False</td>\n",
       "      <td>-5.000000e-01</td>\n",
       "      <td>0.866025</td>\n",
       "      <td>840.833333</td>\n",
       "    </tr>\n",
       "    <tr>\n",
       "      <th>628</th>\n",
       "      <td>0.012500</td>\n",
       "      <td>0.029687</td>\n",
       "      <td>0.000000</td>\n",
       "      <td>0.0</td>\n",
       "      <td>2</td>\n",
       "      <td>2</td>\n",
       "      <td>1</td>\n",
       "      <td>2</td>\n",
       "      <td>Returning_Visitor</td>\n",
       "      <td>False</td>\n",
       "      <td>False</td>\n",
       "      <td>5.000000e-01</td>\n",
       "      <td>0.866025</td>\n",
       "      <td>1013.066667</td>\n",
       "    </tr>\n",
       "    <tr>\n",
       "      <th>1055</th>\n",
       "      <td>0.066667</td>\n",
       "      <td>0.133333</td>\n",
       "      <td>0.000000</td>\n",
       "      <td>0.0</td>\n",
       "      <td>2</td>\n",
       "      <td>2</td>\n",
       "      <td>7</td>\n",
       "      <td>10</td>\n",
       "      <td>Returning_Visitor</td>\n",
       "      <td>False</td>\n",
       "      <td>False</td>\n",
       "      <td>5.000000e-01</td>\n",
       "      <td>0.866025</td>\n",
       "      <td>112.000000</td>\n",
       "    </tr>\n",
       "  </tbody>\n",
       "</table>\n",
       "<p>9864 rows × 14 columns</p>\n",
       "</div>"
      ],
      "text/plain": [
       "       BounceRates  ExitRates  PageValues  SpecialDay OperatingSystems  \\\n",
       "2796      0.200000   0.200000    0.000000         0.0                1   \n",
       "5965      0.009091   0.022727   31.991814         0.0                4   \n",
       "11334     0.001481   0.042222   27.976329         0.0                2   \n",
       "2627      0.016000   0.040800    0.000000         0.8                2   \n",
       "937       0.000000   0.022222    0.000000         0.0                2   \n",
       "...            ...        ...         ...         ...              ...   \n",
       "10258     0.000000   0.007143   31.388862         0.0                1   \n",
       "398       0.200000   0.200000    0.000000         0.0                2   \n",
       "3292      0.000000   0.019048    0.000000         0.0                2   \n",
       "628       0.012500   0.029687    0.000000         0.0                2   \n",
       "1055      0.066667   0.133333    0.000000         0.0                2   \n",
       "\n",
       "      Browser Region TrafficType        VisitorType  Weekend  Revenue  \\\n",
       "2796        1      3           3  Returning_Visitor    False    False   \n",
       "5965        1      1           2  Returning_Visitor    False     True   \n",
       "11334       2      1           2  Returning_Visitor    False    False   \n",
       "2627        2      3           2  Returning_Visitor    False    False   \n",
       "937         2      1           8        New_Visitor    False    False   \n",
       "...       ...    ...         ...                ...      ...      ...   \n",
       "10258       2      1           2              Other     True    False   \n",
       "398         4      1           1  Returning_Visitor    False    False   \n",
       "3292        2      2           3  Returning_Visitor    False    False   \n",
       "628         2      1           2  Returning_Visitor    False    False   \n",
       "1055        2      7          10  Returning_Visitor    False    False   \n",
       "\n",
       "            Month_x   Month_y   total_time  \n",
       "2796  -5.000000e-01  0.866025     0.000000  \n",
       "5965  -1.836970e-16 -1.000000   462.383333  \n",
       "11334  5.000000e-01 -0.866025   846.125000  \n",
       "2627  -5.000000e-01  0.866025   591.750000  \n",
       "937    5.000000e-01  0.866025    99.500000  \n",
       "...             ...       ...          ...  \n",
       "10258  8.660254e-01 -0.500000   601.333333  \n",
       "398    5.000000e-01  0.866025     0.000000  \n",
       "3292  -5.000000e-01  0.866025   840.833333  \n",
       "628    5.000000e-01  0.866025  1013.066667  \n",
       "1055   5.000000e-01  0.866025   112.000000  \n",
       "\n",
       "[9864 rows x 14 columns]"
      ]
     },
     "execution_count": 1048,
     "metadata": {},
     "output_type": "execute_result"
    }
   ],
   "source": [
    "train_data = consolidate_session_data(train_data)\n",
    "train_data"
   ]
  },
  {
   "cell_type": "code",
   "execution_count": 1049,
   "metadata": {},
   "outputs": [
    {
     "data": {
      "text/html": [
       "<div>\n",
       "<style scoped>\n",
       "    .dataframe tbody tr th:only-of-type {\n",
       "        vertical-align: middle;\n",
       "    }\n",
       "\n",
       "    .dataframe tbody tr th {\n",
       "        vertical-align: top;\n",
       "    }\n",
       "\n",
       "    .dataframe thead th {\n",
       "        text-align: right;\n",
       "    }\n",
       "</style>\n",
       "<table border=\"1\" class=\"dataframe\">\n",
       "  <thead>\n",
       "    <tr style=\"text-align: right;\">\n",
       "      <th></th>\n",
       "      <th>count</th>\n",
       "      <th>mean</th>\n",
       "      <th>std</th>\n",
       "      <th>min</th>\n",
       "      <th>25%</th>\n",
       "      <th>50%</th>\n",
       "      <th>75%</th>\n",
       "      <th>max</th>\n",
       "    </tr>\n",
       "    <tr>\n",
       "      <th>Revenue</th>\n",
       "      <th></th>\n",
       "      <th></th>\n",
       "      <th></th>\n",
       "      <th></th>\n",
       "      <th></th>\n",
       "      <th></th>\n",
       "      <th></th>\n",
       "      <th></th>\n",
       "    </tr>\n",
       "  </thead>\n",
       "  <tbody>\n",
       "    <tr>\n",
       "      <th>False</th>\n",
       "      <td>8338.0</td>\n",
       "      <td>1.998982</td>\n",
       "      <td>9.286541</td>\n",
       "      <td>0.0</td>\n",
       "      <td>0.000000</td>\n",
       "      <td>0.000000</td>\n",
       "      <td>0.000000</td>\n",
       "      <td>246.758590</td>\n",
       "    </tr>\n",
       "    <tr>\n",
       "      <th>True</th>\n",
       "      <td>1526.0</td>\n",
       "      <td>27.163120</td>\n",
       "      <td>34.975781</td>\n",
       "      <td>0.0</td>\n",
       "      <td>3.476546</td>\n",
       "      <td>16.733859</td>\n",
       "      <td>38.271654</td>\n",
       "      <td>361.763742</td>\n",
       "    </tr>\n",
       "  </tbody>\n",
       "</table>\n",
       "</div>"
      ],
      "text/plain": [
       "          count       mean        std  min       25%        50%        75%  \\\n",
       "Revenue                                                                      \n",
       "False    8338.0   1.998982   9.286541  0.0  0.000000   0.000000   0.000000   \n",
       "True     1526.0  27.163120  34.975781  0.0  3.476546  16.733859  38.271654   \n",
       "\n",
       "                max  \n",
       "Revenue              \n",
       "False    246.758590  \n",
       "True     361.763742  "
      ]
     },
     "execution_count": 1049,
     "metadata": {},
     "output_type": "execute_result"
    }
   ],
   "source": [
    "# I now want to check if PageValues is significant, because I did not understand the description\n",
    "# of this column in the email sent to me.\n",
    "train_data.groupby('Revenue')['PageValues'].describe()\n",
    "# It appears to be pretty significant, so I will keep it."
   ]
  },
  {
   "cell_type": "code",
   "execution_count": 1050,
   "metadata": {},
   "outputs": [
    {
     "name": "stderr",
     "output_type": "stream",
     "text": [
      "<ipython-input-1050-606b1f6d81ec>:1: FutureWarning: Indexing with multiple keys (implicitly converted to a tuple of keys) will be deprecated, use a list instead.\n",
      "  train_data.groupby('Revenue')['BounceRates', 'ExitRates'].describe()\n"
     ]
    },
    {
     "data": {
      "text/html": [
       "<div>\n",
       "<style scoped>\n",
       "    .dataframe tbody tr th:only-of-type {\n",
       "        vertical-align: middle;\n",
       "    }\n",
       "\n",
       "    .dataframe tbody tr th {\n",
       "        vertical-align: top;\n",
       "    }\n",
       "\n",
       "    .dataframe thead tr th {\n",
       "        text-align: left;\n",
       "    }\n",
       "\n",
       "    .dataframe thead tr:last-of-type th {\n",
       "        text-align: right;\n",
       "    }\n",
       "</style>\n",
       "<table border=\"1\" class=\"dataframe\">\n",
       "  <thead>\n",
       "    <tr>\n",
       "      <th></th>\n",
       "      <th colspan=\"8\" halign=\"left\">BounceRates</th>\n",
       "      <th colspan=\"8\" halign=\"left\">ExitRates</th>\n",
       "    </tr>\n",
       "    <tr>\n",
       "      <th></th>\n",
       "      <th>count</th>\n",
       "      <th>mean</th>\n",
       "      <th>std</th>\n",
       "      <th>min</th>\n",
       "      <th>25%</th>\n",
       "      <th>50%</th>\n",
       "      <th>75%</th>\n",
       "      <th>max</th>\n",
       "      <th>count</th>\n",
       "      <th>mean</th>\n",
       "      <th>std</th>\n",
       "      <th>min</th>\n",
       "      <th>25%</th>\n",
       "      <th>50%</th>\n",
       "      <th>75%</th>\n",
       "      <th>max</th>\n",
       "    </tr>\n",
       "    <tr>\n",
       "      <th>Revenue</th>\n",
       "      <th></th>\n",
       "      <th></th>\n",
       "      <th></th>\n",
       "      <th></th>\n",
       "      <th></th>\n",
       "      <th></th>\n",
       "      <th></th>\n",
       "      <th></th>\n",
       "      <th></th>\n",
       "      <th></th>\n",
       "      <th></th>\n",
       "      <th></th>\n",
       "      <th></th>\n",
       "      <th></th>\n",
       "      <th></th>\n",
       "      <th></th>\n",
       "    </tr>\n",
       "  </thead>\n",
       "  <tbody>\n",
       "    <tr>\n",
       "      <th>False</th>\n",
       "      <td>8338.0</td>\n",
       "      <td>0.025157</td>\n",
       "      <td>0.051811</td>\n",
       "      <td>0.0</td>\n",
       "      <td>0.0</td>\n",
       "      <td>0.004088</td>\n",
       "      <td>0.020000</td>\n",
       "      <td>0.2</td>\n",
       "      <td>8338.0</td>\n",
       "      <td>0.047335</td>\n",
       "      <td>0.05123</td>\n",
       "      <td>0.0</td>\n",
       "      <td>0.015385</td>\n",
       "      <td>0.028571</td>\n",
       "      <td>0.053894</td>\n",
       "      <td>0.2</td>\n",
       "    </tr>\n",
       "    <tr>\n",
       "      <th>True</th>\n",
       "      <td>1526.0</td>\n",
       "      <td>0.005210</td>\n",
       "      <td>0.012599</td>\n",
       "      <td>0.0</td>\n",
       "      <td>0.0</td>\n",
       "      <td>0.000000</td>\n",
       "      <td>0.006456</td>\n",
       "      <td>0.2</td>\n",
       "      <td>1526.0</td>\n",
       "      <td>0.019479</td>\n",
       "      <td>0.01661</td>\n",
       "      <td>0.0</td>\n",
       "      <td>0.009505</td>\n",
       "      <td>0.015620</td>\n",
       "      <td>0.025000</td>\n",
       "      <td>0.2</td>\n",
       "    </tr>\n",
       "  </tbody>\n",
       "</table>\n",
       "</div>"
      ],
      "text/plain": [
       "        BounceRates                                                         \\\n",
       "              count      mean       std  min  25%       50%       75%  max   \n",
       "Revenue                                                                      \n",
       "False        8338.0  0.025157  0.051811  0.0  0.0  0.004088  0.020000  0.2   \n",
       "True         1526.0  0.005210  0.012599  0.0  0.0  0.000000  0.006456  0.2   \n",
       "\n",
       "        ExitRates                                                             \n",
       "            count      mean      std  min       25%       50%       75%  max  \n",
       "Revenue                                                                       \n",
       "False      8338.0  0.047335  0.05123  0.0  0.015385  0.028571  0.053894  0.2  \n",
       "True       1526.0  0.019479  0.01661  0.0  0.009505  0.015620  0.025000  0.2  "
      ]
     },
     "execution_count": 1050,
     "metadata": {},
     "output_type": "execute_result"
    }
   ],
   "source": [
    "train_data.groupby('Revenue')['BounceRates', 'ExitRates'].describe()\n",
    "# The same appears to be true for ExitRates & BounceRates, so I will keep these as well."
   ]
  },
  {
   "cell_type": "code",
   "execution_count": 1051,
   "metadata": {},
   "outputs": [
    {
     "data": {
      "text/plain": [
       "Revenue  OperatingSystems\n",
       "False    2                   0.523507\n",
       "         3                   0.216239\n",
       "         1                   0.213840\n",
       "         4                   0.037419\n",
       "         8                   0.006237\n",
       "         6                   0.001559\n",
       "         5                   0.000600\n",
       "         7                   0.000600\n",
       "True     2                   0.604849\n",
       "         1                   0.192005\n",
       "         3                   0.144168\n",
       "         4                   0.047837\n",
       "         8                   0.008519\n",
       "         6                   0.001311\n",
       "         5                   0.000655\n",
       "         7                   0.000655\n",
       "Name: OperatingSystems, dtype: float64"
      ]
     },
     "execution_count": 1051,
     "metadata": {},
     "output_type": "execute_result"
    }
   ],
   "source": [
    "# I do not believe operating system has much to do with product buying, but I will check to see\n",
    "# if this is relevant\n",
    "train_data.groupby('Revenue')['OperatingSystems'].value_counts(normalize=True)\n",
    "# These proportions are very similar, and since I already don't think operating system has anything\n",
    "# to do with a session ending in a purchase, I will discard this column. I will check Browser as well."
   ]
  },
  {
   "cell_type": "code",
   "execution_count": 1052,
   "metadata": {},
   "outputs": [
    {
     "data": {
      "text/plain": [
       "Revenue  Browser\n",
       "False    2          0.643320\n",
       "         1          0.204366\n",
       "         4          0.058287\n",
       "         5          0.035500\n",
       "         6          0.015951\n",
       "         10         0.011274\n",
       "         8          0.010794\n",
       "         3          0.010074\n",
       "         7          0.004557\n",
       "         13         0.004557\n",
       "         11         0.000600\n",
       "         12         0.000600\n",
       "         9          0.000120\n",
       "True     2          0.652031\n",
       "         1          0.181520\n",
       "         4          0.068807\n",
       "         5          0.046527\n",
       "         10         0.017038\n",
       "         8          0.011140\n",
       "         13         0.007864\n",
       "         6          0.007208\n",
       "         7          0.003277\n",
       "         3          0.002621\n",
       "         12         0.001311\n",
       "         11         0.000655\n",
       "Name: Browser, dtype: float64"
      ]
     },
     "execution_count": 1052,
     "metadata": {},
     "output_type": "execute_result"
    }
   ],
   "source": [
    "# Browser may affect user experience, or it may just be another useless column like OperatingSystem, \n",
    "# so we will see if it has stand-alone value \n",
    "train_data.groupby('Revenue')['Browser'].value_counts(normalize=True)\n",
    "# Browser alone does not have different distributions between the different levels of Revenue,\n",
    "# and I do not believe that it would have multivariate effects with any of the remaining features,\n",
    "# so I will remove it as well for now."
   ]
  },
  {
   "cell_type": "code",
   "execution_count": 1053,
   "metadata": {},
   "outputs": [],
   "source": [
    "from utils import remove_computer_data\n",
    "pipeline.add(remove_computer_data)\n",
    "train_data = remove_computer_data(train_data)"
   ]
  },
  {
   "cell_type": "code",
   "execution_count": 1054,
   "metadata": {},
   "outputs": [
    {
     "data": {
      "text/html": [
       "<div>\n",
       "<style scoped>\n",
       "    .dataframe tbody tr th:only-of-type {\n",
       "        vertical-align: middle;\n",
       "    }\n",
       "\n",
       "    .dataframe tbody tr th {\n",
       "        vertical-align: top;\n",
       "    }\n",
       "\n",
       "    .dataframe thead th {\n",
       "        text-align: right;\n",
       "    }\n",
       "</style>\n",
       "<table border=\"1\" class=\"dataframe\">\n",
       "  <thead>\n",
       "    <tr style=\"text-align: right;\">\n",
       "      <th></th>\n",
       "      <th>BounceRates</th>\n",
       "      <th>ExitRates</th>\n",
       "      <th>PageValues</th>\n",
       "      <th>SpecialDay</th>\n",
       "      <th>Region</th>\n",
       "      <th>TrafficType</th>\n",
       "      <th>VisitorType</th>\n",
       "      <th>Weekend</th>\n",
       "      <th>Revenue</th>\n",
       "      <th>Month_x</th>\n",
       "      <th>Month_y</th>\n",
       "      <th>total_time</th>\n",
       "    </tr>\n",
       "  </thead>\n",
       "  <tbody>\n",
       "    <tr>\n",
       "      <th>2796</th>\n",
       "      <td>0.200000</td>\n",
       "      <td>0.200000</td>\n",
       "      <td>0.000000</td>\n",
       "      <td>0.0</td>\n",
       "      <td>3</td>\n",
       "      <td>3</td>\n",
       "      <td>Returning_Visitor</td>\n",
       "      <td>False</td>\n",
       "      <td>False</td>\n",
       "      <td>-5.000000e-01</td>\n",
       "      <td>0.866025</td>\n",
       "      <td>0.000000</td>\n",
       "    </tr>\n",
       "    <tr>\n",
       "      <th>5965</th>\n",
       "      <td>0.009091</td>\n",
       "      <td>0.022727</td>\n",
       "      <td>31.991814</td>\n",
       "      <td>0.0</td>\n",
       "      <td>1</td>\n",
       "      <td>2</td>\n",
       "      <td>Returning_Visitor</td>\n",
       "      <td>False</td>\n",
       "      <td>True</td>\n",
       "      <td>-1.836970e-16</td>\n",
       "      <td>-1.000000</td>\n",
       "      <td>462.383333</td>\n",
       "    </tr>\n",
       "    <tr>\n",
       "      <th>11334</th>\n",
       "      <td>0.001481</td>\n",
       "      <td>0.042222</td>\n",
       "      <td>27.976329</td>\n",
       "      <td>0.0</td>\n",
       "      <td>1</td>\n",
       "      <td>2</td>\n",
       "      <td>Returning_Visitor</td>\n",
       "      <td>False</td>\n",
       "      <td>False</td>\n",
       "      <td>5.000000e-01</td>\n",
       "      <td>-0.866025</td>\n",
       "      <td>846.125000</td>\n",
       "    </tr>\n",
       "    <tr>\n",
       "      <th>2627</th>\n",
       "      <td>0.016000</td>\n",
       "      <td>0.040800</td>\n",
       "      <td>0.000000</td>\n",
       "      <td>0.8</td>\n",
       "      <td>3</td>\n",
       "      <td>2</td>\n",
       "      <td>Returning_Visitor</td>\n",
       "      <td>False</td>\n",
       "      <td>False</td>\n",
       "      <td>-5.000000e-01</td>\n",
       "      <td>0.866025</td>\n",
       "      <td>591.750000</td>\n",
       "    </tr>\n",
       "    <tr>\n",
       "      <th>937</th>\n",
       "      <td>0.000000</td>\n",
       "      <td>0.022222</td>\n",
       "      <td>0.000000</td>\n",
       "      <td>0.0</td>\n",
       "      <td>1</td>\n",
       "      <td>8</td>\n",
       "      <td>New_Visitor</td>\n",
       "      <td>False</td>\n",
       "      <td>False</td>\n",
       "      <td>5.000000e-01</td>\n",
       "      <td>0.866025</td>\n",
       "      <td>99.500000</td>\n",
       "    </tr>\n",
       "    <tr>\n",
       "      <th>...</th>\n",
       "      <td>...</td>\n",
       "      <td>...</td>\n",
       "      <td>...</td>\n",
       "      <td>...</td>\n",
       "      <td>...</td>\n",
       "      <td>...</td>\n",
       "      <td>...</td>\n",
       "      <td>...</td>\n",
       "      <td>...</td>\n",
       "      <td>...</td>\n",
       "      <td>...</td>\n",
       "      <td>...</td>\n",
       "    </tr>\n",
       "    <tr>\n",
       "      <th>10258</th>\n",
       "      <td>0.000000</td>\n",
       "      <td>0.007143</td>\n",
       "      <td>31.388862</td>\n",
       "      <td>0.0</td>\n",
       "      <td>1</td>\n",
       "      <td>2</td>\n",
       "      <td>Other</td>\n",
       "      <td>True</td>\n",
       "      <td>False</td>\n",
       "      <td>8.660254e-01</td>\n",
       "      <td>-0.500000</td>\n",
       "      <td>601.333333</td>\n",
       "    </tr>\n",
       "    <tr>\n",
       "      <th>398</th>\n",
       "      <td>0.200000</td>\n",
       "      <td>0.200000</td>\n",
       "      <td>0.000000</td>\n",
       "      <td>0.0</td>\n",
       "      <td>1</td>\n",
       "      <td>1</td>\n",
       "      <td>Returning_Visitor</td>\n",
       "      <td>False</td>\n",
       "      <td>False</td>\n",
       "      <td>5.000000e-01</td>\n",
       "      <td>0.866025</td>\n",
       "      <td>0.000000</td>\n",
       "    </tr>\n",
       "    <tr>\n",
       "      <th>3292</th>\n",
       "      <td>0.000000</td>\n",
       "      <td>0.019048</td>\n",
       "      <td>0.000000</td>\n",
       "      <td>0.0</td>\n",
       "      <td>2</td>\n",
       "      <td>3</td>\n",
       "      <td>Returning_Visitor</td>\n",
       "      <td>False</td>\n",
       "      <td>False</td>\n",
       "      <td>-5.000000e-01</td>\n",
       "      <td>0.866025</td>\n",
       "      <td>840.833333</td>\n",
       "    </tr>\n",
       "    <tr>\n",
       "      <th>628</th>\n",
       "      <td>0.012500</td>\n",
       "      <td>0.029687</td>\n",
       "      <td>0.000000</td>\n",
       "      <td>0.0</td>\n",
       "      <td>1</td>\n",
       "      <td>2</td>\n",
       "      <td>Returning_Visitor</td>\n",
       "      <td>False</td>\n",
       "      <td>False</td>\n",
       "      <td>5.000000e-01</td>\n",
       "      <td>0.866025</td>\n",
       "      <td>1013.066667</td>\n",
       "    </tr>\n",
       "    <tr>\n",
       "      <th>1055</th>\n",
       "      <td>0.066667</td>\n",
       "      <td>0.133333</td>\n",
       "      <td>0.000000</td>\n",
       "      <td>0.0</td>\n",
       "      <td>7</td>\n",
       "      <td>10</td>\n",
       "      <td>Returning_Visitor</td>\n",
       "      <td>False</td>\n",
       "      <td>False</td>\n",
       "      <td>5.000000e-01</td>\n",
       "      <td>0.866025</td>\n",
       "      <td>112.000000</td>\n",
       "    </tr>\n",
       "  </tbody>\n",
       "</table>\n",
       "<p>9864 rows × 12 columns</p>\n",
       "</div>"
      ],
      "text/plain": [
       "       BounceRates  ExitRates  PageValues  SpecialDay Region TrafficType  \\\n",
       "2796      0.200000   0.200000    0.000000         0.0      3           3   \n",
       "5965      0.009091   0.022727   31.991814         0.0      1           2   \n",
       "11334     0.001481   0.042222   27.976329         0.0      1           2   \n",
       "2627      0.016000   0.040800    0.000000         0.8      3           2   \n",
       "937       0.000000   0.022222    0.000000         0.0      1           8   \n",
       "...            ...        ...         ...         ...    ...         ...   \n",
       "10258     0.000000   0.007143   31.388862         0.0      1           2   \n",
       "398       0.200000   0.200000    0.000000         0.0      1           1   \n",
       "3292      0.000000   0.019048    0.000000         0.0      2           3   \n",
       "628       0.012500   0.029687    0.000000         0.0      1           2   \n",
       "1055      0.066667   0.133333    0.000000         0.0      7          10   \n",
       "\n",
       "             VisitorType  Weekend  Revenue       Month_x   Month_y  \\\n",
       "2796   Returning_Visitor    False    False -5.000000e-01  0.866025   \n",
       "5965   Returning_Visitor    False     True -1.836970e-16 -1.000000   \n",
       "11334  Returning_Visitor    False    False  5.000000e-01 -0.866025   \n",
       "2627   Returning_Visitor    False    False -5.000000e-01  0.866025   \n",
       "937          New_Visitor    False    False  5.000000e-01  0.866025   \n",
       "...                  ...      ...      ...           ...       ...   \n",
       "10258              Other     True    False  8.660254e-01 -0.500000   \n",
       "398    Returning_Visitor    False    False  5.000000e-01  0.866025   \n",
       "3292   Returning_Visitor    False    False -5.000000e-01  0.866025   \n",
       "628    Returning_Visitor    False    False  5.000000e-01  0.866025   \n",
       "1055   Returning_Visitor    False    False  5.000000e-01  0.866025   \n",
       "\n",
       "        total_time  \n",
       "2796      0.000000  \n",
       "5965    462.383333  \n",
       "11334   846.125000  \n",
       "2627    591.750000  \n",
       "937      99.500000  \n",
       "...            ...  \n",
       "10258   601.333333  \n",
       "398       0.000000  \n",
       "3292    840.833333  \n",
       "628    1013.066667  \n",
       "1055    112.000000  \n",
       "\n",
       "[9864 rows x 12 columns]"
      ]
     },
     "execution_count": 1054,
     "metadata": {},
     "output_type": "execute_result"
    }
   ],
   "source": [
    "train_data"
   ]
  },
  {
   "cell_type": "code",
   "execution_count": 1055,
   "metadata": {},
   "outputs": [
    {
     "name": "stdout",
     "output_type": "stream",
     "text": [
      "Applying func make_months_circular\n",
      "Applying func make_data_categorical\n",
      "Applying func consolidate_session_data\n",
      "Applying func remove_computer_data\n"
     ]
    }
   ],
   "source": [
    "test_data = pipeline(test_data)\n",
    "# This cell just checks if the pipeline class works, which it does. We will now move to model selection."
   ]
  },
  {
   "cell_type": "code",
   "execution_count": 1056,
   "metadata": {},
   "outputs": [],
   "source": [
    "from sklearn.model_selection import GridSearchCV\n",
    "from sklearn.metrics import roc_auc_score, f1_score, make_scorer, roc_curve, precision_recall_curve, auc\n",
    "from catboost import CatBoostClassifier, CatBoostRegressor"
   ]
  },
  {
   "cell_type": "code",
   "execution_count": 1126,
   "metadata": {},
   "outputs": [],
   "source": [
    "def eval_model(gscv, regression=False):\n",
    "    model = gscv.best_estimator_\n",
    "    \n",
    "    print('Mean validation score for the best model is', gscv.best_score_)\n",
    "    \n",
    "    results = pd.DataFrame(gscv.cv_results_)\n",
    "    print(results[results['params'] == gscv.best_params_].filter(regex='test_score$', axis=1) )\n",
    "    \n",
    "    y_true = test_data['Revenue']\n",
    "    y_pred = model.predict(test_data.drop('Revenue', axis=1))\n",
    "    print('Test ROC AUC is', roc_auc_score(y_true, y_pred) )\n",
    "    \n",
    "    fpr, tpr, thresholds = roc_curve(y_true, y_pred)\n",
    "    plt.plot(fpr,tpr)\n",
    "    plt.ylabel('True Positive Rate')\n",
    "    plt.xlabel('False Positive Rate')\n",
    "    plt.show()\n",
    "    \n",
    "    precision, recall, _ = precision_recall_curve(y_true, y_pred)\n",
    "    print('Test PR AUC is', auc(recall, precision) )\n",
    "    \n",
    "    plt.plot(precision, recall)\n",
    "    plt.show()\n",
    "    \n",
    "    if regression:\n",
    "        threshold = thresholds[np.argmax(tpr - fpr)]\n",
    "        print(\"Optimal threshold is\", threshold)\n",
    "        print(\n",
    "            'Confusion matrix at optimal split is\\n', \n",
    "            confusion_matrix(y_true, y_pred > threshold) \n",
    "        )\n",
    "        print('Optimal threshold F1 score is', f1_score(y_true, y_pred > threshold) )\n",
    "        return y_true, y_pred, threshold\n",
    "    else:\n",
    "        print(\n",
    "            'Confusion matrix is\\n', \n",
    "            confusion_matrix(y_true, y_pred) \n",
    "        )\n",
    "        print('F1 score is', f1_score(y_true, y_pred))\n",
    "        return y_true, y_pred"
   ]
  },
  {
   "cell_type": "markdown",
   "metadata": {},
   "source": [
    "Since the positive class is quite small, we will use grid search + cross validation to find the optimal parameters/model."
   ]
  },
  {
   "cell_type": "code",
   "execution_count": 964,
   "metadata": {},
   "outputs": [],
   "source": [
    "gscv = GridSearchCV(\n",
    "    estimator = CatBoostRegressor(cat_features = ['Region', 'TrafficType', 'VisitorType']),\n",
    "    param_grid = {\n",
    "        'max_depth'     : [3, 5, 7],\n",
    "        'n_estimators'  : [100, 150, 200],\n",
    "        'learning_rate' : [.1]\n",
    "    },\n",
    "    scoring = make_scorer(roc_auc_score),\n",
    "    n_jobs = -1,\n",
    "    verbose = 10,\n",
    "    cv = 12,\n",
    "    return_train_score = True\n",
    ")"
   ]
  },
  {
   "cell_type": "code",
   "execution_count": 965,
   "metadata": {},
   "outputs": [
    {
     "name": "stdout",
     "output_type": "stream",
     "text": [
      "Fitting 12 folds for each of 9 candidates, totalling 108 fits\n"
     ]
    },
    {
     "name": "stderr",
     "output_type": "stream",
     "text": [
      "[Parallel(n_jobs=-1)]: Using backend LokyBackend with 4 concurrent workers.\n",
      "[Parallel(n_jobs=-1)]: Done   5 tasks      | elapsed:    9.4s\n",
      "[Parallel(n_jobs=-1)]: Done  10 tasks      | elapsed:   11.9s\n",
      "[Parallel(n_jobs=-1)]: Done  17 tasks      | elapsed:   18.0s\n",
      "[Parallel(n_jobs=-1)]: Done  24 tasks      | elapsed:   23.1s\n",
      "[Parallel(n_jobs=-1)]: Done  33 tasks      | elapsed:   34.7s\n",
      "[Parallel(n_jobs=-1)]: Done  42 tasks      | elapsed:   41.6s\n",
      "[Parallel(n_jobs=-1)]: Done  53 tasks      | elapsed:   54.1s\n",
      "[Parallel(n_jobs=-1)]: Done  64 tasks      | elapsed:  1.1min\n",
      "[Parallel(n_jobs=-1)]: Done  77 tasks      | elapsed:  1.5min\n",
      "[Parallel(n_jobs=-1)]: Done  90 tasks      | elapsed:  1.9min\n",
      "[Parallel(n_jobs=-1)]: Done 108 out of 108 | elapsed:  2.6min finished\n"
     ]
    },
    {
     "name": "stdout",
     "output_type": "stream",
     "text": [
      "0:\tlearn: 0.3473546\ttotal: 30.5ms\tremaining: 3.02s\n",
      "1:\tlearn: 0.3346218\ttotal: 54.4ms\tremaining: 2.67s\n",
      "2:\tlearn: 0.3239122\ttotal: 76.6ms\tremaining: 2.48s\n",
      "3:\tlearn: 0.3148051\ttotal: 108ms\tremaining: 2.6s\n",
      "4:\tlearn: 0.3071071\ttotal: 132ms\tremaining: 2.51s\n",
      "5:\tlearn: 0.3007354\ttotal: 155ms\tremaining: 2.43s\n",
      "6:\tlearn: 0.2949693\ttotal: 174ms\tremaining: 2.31s\n",
      "7:\tlearn: 0.2904133\ttotal: 196ms\tremaining: 2.25s\n",
      "8:\tlearn: 0.2865416\ttotal: 216ms\tremaining: 2.19s\n",
      "9:\tlearn: 0.2833648\ttotal: 234ms\tremaining: 2.11s\n",
      "10:\tlearn: 0.2812854\ttotal: 249ms\tremaining: 2.02s\n",
      "11:\tlearn: 0.2788637\ttotal: 267ms\tremaining: 1.96s\n",
      "12:\tlearn: 0.2764586\ttotal: 284ms\tremaining: 1.9s\n",
      "13:\tlearn: 0.2746684\ttotal: 300ms\tremaining: 1.84s\n",
      "14:\tlearn: 0.2732721\ttotal: 317ms\tremaining: 1.79s\n",
      "15:\tlearn: 0.2717811\ttotal: 334ms\tremaining: 1.75s\n",
      "16:\tlearn: 0.2705981\ttotal: 350ms\tremaining: 1.71s\n",
      "17:\tlearn: 0.2696002\ttotal: 366ms\tremaining: 1.67s\n",
      "18:\tlearn: 0.2686634\ttotal: 384ms\tremaining: 1.64s\n",
      "19:\tlearn: 0.2682794\ttotal: 393ms\tremaining: 1.57s\n",
      "20:\tlearn: 0.2676478\ttotal: 412ms\tremaining: 1.55s\n",
      "21:\tlearn: 0.2670340\ttotal: 431ms\tremaining: 1.53s\n",
      "22:\tlearn: 0.2664455\ttotal: 457ms\tremaining: 1.53s\n",
      "23:\tlearn: 0.2658904\ttotal: 487ms\tremaining: 1.54s\n",
      "24:\tlearn: 0.2655008\ttotal: 505ms\tremaining: 1.51s\n",
      "25:\tlearn: 0.2651123\ttotal: 523ms\tremaining: 1.49s\n",
      "26:\tlearn: 0.2646210\ttotal: 541ms\tremaining: 1.46s\n",
      "27:\tlearn: 0.2641945\ttotal: 556ms\tremaining: 1.43s\n",
      "28:\tlearn: 0.2639613\ttotal: 571ms\tremaining: 1.4s\n",
      "29:\tlearn: 0.2635772\ttotal: 586ms\tremaining: 1.37s\n",
      "30:\tlearn: 0.2633484\ttotal: 601ms\tremaining: 1.34s\n",
      "31:\tlearn: 0.2630155\ttotal: 620ms\tremaining: 1.32s\n",
      "32:\tlearn: 0.2627099\ttotal: 636ms\tremaining: 1.29s\n",
      "33:\tlearn: 0.2625186\ttotal: 652ms\tremaining: 1.26s\n",
      "34:\tlearn: 0.2622878\ttotal: 667ms\tremaining: 1.24s\n",
      "35:\tlearn: 0.2620725\ttotal: 681ms\tremaining: 1.21s\n",
      "36:\tlearn: 0.2619274\ttotal: 696ms\tremaining: 1.19s\n",
      "37:\tlearn: 0.2617597\ttotal: 711ms\tremaining: 1.16s\n",
      "38:\tlearn: 0.2616205\ttotal: 726ms\tremaining: 1.14s\n",
      "39:\tlearn: 0.2615006\ttotal: 740ms\tremaining: 1.11s\n",
      "40:\tlearn: 0.2613680\ttotal: 755ms\tremaining: 1.09s\n",
      "41:\tlearn: 0.2613592\ttotal: 765ms\tremaining: 1.06s\n",
      "42:\tlearn: 0.2612739\ttotal: 780ms\tremaining: 1.03s\n",
      "43:\tlearn: 0.2610870\ttotal: 799ms\tremaining: 1.02s\n",
      "44:\tlearn: 0.2610422\ttotal: 815ms\tremaining: 997ms\n",
      "45:\tlearn: 0.2609446\ttotal: 831ms\tremaining: 976ms\n",
      "46:\tlearn: 0.2607945\ttotal: 847ms\tremaining: 955ms\n",
      "47:\tlearn: 0.2606929\ttotal: 863ms\tremaining: 935ms\n",
      "48:\tlearn: 0.2605258\ttotal: 878ms\tremaining: 914ms\n",
      "49:\tlearn: 0.2604058\ttotal: 894ms\tremaining: 894ms\n",
      "50:\tlearn: 0.2601745\ttotal: 909ms\tremaining: 873ms\n",
      "51:\tlearn: 0.2601674\ttotal: 918ms\tremaining: 847ms\n",
      "52:\tlearn: 0.2601554\ttotal: 933ms\tremaining: 827ms\n",
      "53:\tlearn: 0.2600396\ttotal: 948ms\tremaining: 808ms\n",
      "54:\tlearn: 0.2600200\ttotal: 964ms\tremaining: 788ms\n",
      "55:\tlearn: 0.2600041\ttotal: 970ms\tremaining: 763ms\n",
      "56:\tlearn: 0.2599758\ttotal: 985ms\tremaining: 743ms\n",
      "57:\tlearn: 0.2598749\ttotal: 1s\tremaining: 725ms\n",
      "58:\tlearn: 0.2598402\ttotal: 1.02s\tremaining: 709ms\n",
      "59:\tlearn: 0.2597564\ttotal: 1.04s\tremaining: 691ms\n",
      "60:\tlearn: 0.2596069\ttotal: 1.05s\tremaining: 672ms\n",
      "61:\tlearn: 0.2594872\ttotal: 1.07s\tremaining: 654ms\n",
      "62:\tlearn: 0.2594146\ttotal: 1.08s\tremaining: 635ms\n",
      "63:\tlearn: 0.2593356\ttotal: 1.1s\tremaining: 617ms\n",
      "64:\tlearn: 0.2591457\ttotal: 1.11s\tremaining: 599ms\n",
      "65:\tlearn: 0.2591129\ttotal: 1.13s\tremaining: 581ms\n",
      "66:\tlearn: 0.2590461\ttotal: 1.14s\tremaining: 563ms\n",
      "67:\tlearn: 0.2589285\ttotal: 1.16s\tremaining: 545ms\n",
      "68:\tlearn: 0.2588933\ttotal: 1.17s\tremaining: 527ms\n",
      "69:\tlearn: 0.2587594\ttotal: 1.19s\tremaining: 511ms\n",
      "70:\tlearn: 0.2587542\ttotal: 1.21s\tremaining: 494ms\n",
      "71:\tlearn: 0.2587336\ttotal: 1.23s\tremaining: 477ms\n",
      "72:\tlearn: 0.2586434\ttotal: 1.24s\tremaining: 459ms\n",
      "73:\tlearn: 0.2586318\ttotal: 1.26s\tremaining: 442ms\n",
      "74:\tlearn: 0.2585964\ttotal: 1.27s\tremaining: 424ms\n",
      "75:\tlearn: 0.2583793\ttotal: 1.29s\tremaining: 407ms\n",
      "76:\tlearn: 0.2582644\ttotal: 1.3s\tremaining: 389ms\n",
      "77:\tlearn: 0.2581220\ttotal: 1.32s\tremaining: 372ms\n",
      "78:\tlearn: 0.2580258\ttotal: 1.33s\tremaining: 354ms\n",
      "79:\tlearn: 0.2578610\ttotal: 1.36s\tremaining: 340ms\n",
      "80:\tlearn: 0.2577799\ttotal: 1.38s\tremaining: 324ms\n",
      "81:\tlearn: 0.2577350\ttotal: 1.4s\tremaining: 307ms\n",
      "82:\tlearn: 0.2576041\ttotal: 1.42s\tremaining: 290ms\n",
      "83:\tlearn: 0.2575417\ttotal: 1.43s\tremaining: 273ms\n",
      "84:\tlearn: 0.2575209\ttotal: 1.45s\tremaining: 256ms\n",
      "85:\tlearn: 0.2574812\ttotal: 1.46s\tremaining: 238ms\n",
      "86:\tlearn: 0.2573240\ttotal: 1.48s\tremaining: 221ms\n",
      "87:\tlearn: 0.2572393\ttotal: 1.5s\tremaining: 204ms\n",
      "88:\tlearn: 0.2571196\ttotal: 1.51s\tremaining: 187ms\n",
      "89:\tlearn: 0.2570030\ttotal: 1.53s\tremaining: 170ms\n",
      "90:\tlearn: 0.2568741\ttotal: 1.54s\tremaining: 153ms\n",
      "91:\tlearn: 0.2567438\ttotal: 1.56s\tremaining: 135ms\n",
      "92:\tlearn: 0.2565974\ttotal: 1.57s\tremaining: 118ms\n",
      "93:\tlearn: 0.2564414\ttotal: 1.59s\tremaining: 102ms\n",
      "94:\tlearn: 0.2563475\ttotal: 1.61s\tremaining: 84.6ms\n",
      "95:\tlearn: 0.2562209\ttotal: 1.62s\tremaining: 67.6ms\n",
      "96:\tlearn: 0.2560101\ttotal: 1.64s\tremaining: 50.7ms\n",
      "97:\tlearn: 0.2559966\ttotal: 1.65s\tremaining: 33.8ms\n",
      "98:\tlearn: 0.2559233\ttotal: 1.69s\tremaining: 17ms\n",
      "99:\tlearn: 0.2558396\ttotal: 1.7s\tremaining: 0us\n"
     ]
    },
    {
     "data": {
      "text/plain": [
       "GridSearchCV(cv=12,\n",
       "             estimator=<catboost.core.CatBoostRegressor object at 0x0000017A52CA05B0>,\n",
       "             n_jobs=-1,\n",
       "             param_grid={'learning_rate': [0.1], 'max_depth': [3, 5, 7],\n",
       "                         'n_estimators': [100, 150, 200]},\n",
       "             return_train_score=True, scoring=make_scorer(roc_auc_score),\n",
       "             verbose=10)"
      ]
     },
     "execution_count": 965,
     "metadata": {},
     "output_type": "execute_result"
    }
   ],
   "source": [
    "gscv.fit(\n",
    "    train_data.drop('Revenue', axis=1),\n",
    "    train_data['Revenue'].astype(float)\n",
    ")"
   ]
  },
  {
   "cell_type": "code",
   "execution_count": 966,
   "metadata": {},
   "outputs": [
    {
     "data": {
      "text/plain": [
       "{'learning_rate': 0.1, 'max_depth': 5, 'n_estimators': 100}"
      ]
     },
     "execution_count": 966,
     "metadata": {},
     "output_type": "execute_result"
    }
   ],
   "source": [
    "gscv.best_params_"
   ]
  },
  {
   "cell_type": "code",
   "execution_count": 1127,
   "metadata": {},
   "outputs": [
    {
     "name": "stdout",
     "output_type": "stream",
     "text": [
      "Mean validation score for the best model is 0.9290311343629609\n",
      "   split0_test_score  split1_test_score  split2_test_score  split3_test_score  \\\n",
      "3           0.921104            0.91253           0.923478           0.932168   \n",
      "\n",
      "   split4_test_score  split5_test_score  split6_test_score  split7_test_score  \\\n",
      "3           0.928159            0.95106           0.930973           0.943105   \n",
      "\n",
      "   split8_test_score  split9_test_score  split10_test_score  \\\n",
      "3           0.909126           0.936692            0.924747   \n",
      "\n",
      "   split11_test_score  mean_test_score  std_test_score  rank_test_score  \n",
      "3            0.935233         0.929031        0.011458                1  \n",
      "Test ROC AUC is 0.9353645576870899\n"
     ]
    },
    {
     "data": {
      "image/png": "[encoded data removed]",
      "text/plain": [
       "<Figure size 432x288 with 1 Axes>"
      ]
     },
     "metadata": {
      "needs_background": "light"
     },
     "output_type": "display_data"
    },
    {
     "name": "stdout",
     "output_type": "stream",
     "text": [
      "Test PR AUC is 0.7718462973219476\n"
     ]
    },
    {
     "data": {
      "image/png": "[encoded data removed]",
      "text/plain": [
       "<Figure size 432x288 with 1 Axes>"
      ]
     },
     "metadata": {
      "needs_background": "light"
     },
     "output_type": "display_data"
    },
    {
     "name": "stdout",
     "output_type": "stream",
     "text": [
      "Optimal threshold is 0.17582204433635523\n",
      "Confusion matrix at optimal split is\n",
      " [[1811  273]\n",
      " [  56  326]]\n",
      "Optimal threshold F1 score is 0.6646279306829765\n"
     ]
    }
   ],
   "source": [
    "y_true, y_pred, threshold_model1 = eval_model(gscv, regression= True)"
   ]
  },
  {
   "cell_type": "code",
   "execution_count": 968,
   "metadata": {},
   "outputs": [],
   "source": [
    "gscv2 = GridSearchCV(\n",
    "    estimator = CatBoostClassifier(\n",
    "        cat_features = ['Region', 'TrafficType', 'VisitorType'],\n",
    "        auto_class_weights = 'Balanced'\n",
    "    ),\n",
    "    param_grid = {\n",
    "        'max_depth'     : [5, 7],\n",
    "        'n_estimators'  : [100, 150, 200],\n",
    "        'learning_rate' : [.1]\n",
    "    },\n",
    "    scoring = make_scorer(roc_auc_score),\n",
    "    n_jobs = -1,\n",
    "    verbose = 10,\n",
    "    cv = 12,\n",
    "    return_train_score = True\n",
    ")"
   ]
  },
  {
   "cell_type": "code",
   "execution_count": 969,
   "metadata": {},
   "outputs": [
    {
     "name": "stdout",
     "output_type": "stream",
     "text": [
      "Fitting 12 folds for each of 6 candidates, totalling 72 fits\n"
     ]
    },
    {
     "name": "stderr",
     "output_type": "stream",
     "text": [
      "[Parallel(n_jobs=-1)]: Using backend LokyBackend with 4 concurrent workers.\n",
      "[Parallel(n_jobs=-1)]: Done   5 tasks      | elapsed:    6.9s\n",
      "[Parallel(n_jobs=-1)]: Done  10 tasks      | elapsed:   10.7s\n",
      "[Parallel(n_jobs=-1)]: Done  17 tasks      | elapsed:   20.5s\n",
      "[Parallel(n_jobs=-1)]: Done  24 tasks      | elapsed:   25.4s\n",
      "[Parallel(n_jobs=-1)]: Done  33 tasks      | elapsed:   51.4s\n",
      "[Parallel(n_jobs=-1)]: Done  42 tasks      | elapsed:  1.0min\n",
      "[Parallel(n_jobs=-1)]: Done  53 tasks      | elapsed:  1.3min\n",
      "[Parallel(n_jobs=-1)]: Done  64 tasks      | elapsed:  1.7min\n",
      "[Parallel(n_jobs=-1)]: Done  72 out of  72 | elapsed:  2.1min finished\n"
     ]
    },
    {
     "name": "stdout",
     "output_type": "stream",
     "text": [
      "0:\tlearn: 0.6421157\ttotal: 56.2ms\tremaining: 8.38s\n",
      "1:\tlearn: 0.6009269\ttotal: 89.5ms\tremaining: 6.62s\n",
      "2:\tlearn: 0.5665547\ttotal: 125ms\tremaining: 6.12s\n",
      "3:\tlearn: 0.5368341\ttotal: 150ms\tremaining: 5.48s\n",
      "4:\tlearn: 0.5143214\ttotal: 179ms\tremaining: 5.18s\n",
      "5:\tlearn: 0.4925085\ttotal: 203ms\tremaining: 4.87s\n",
      "6:\tlearn: 0.4731054\ttotal: 224ms\tremaining: 4.58s\n",
      "7:\tlearn: 0.4571286\ttotal: 247ms\tremaining: 4.39s\n",
      "8:\tlearn: 0.4436690\ttotal: 276ms\tremaining: 4.33s\n",
      "9:\tlearn: 0.4318320\ttotal: 301ms\tremaining: 4.22s\n",
      "10:\tlearn: 0.4246734\ttotal: 316ms\tremaining: 4s\n",
      "11:\tlearn: 0.4148053\ttotal: 338ms\tremaining: 3.88s\n",
      "12:\tlearn: 0.4061090\ttotal: 358ms\tremaining: 3.77s\n",
      "13:\tlearn: 0.3987157\ttotal: 379ms\tremaining: 3.68s\n",
      "14:\tlearn: 0.3921098\ttotal: 401ms\tremaining: 3.61s\n",
      "15:\tlearn: 0.3855557\ttotal: 423ms\tremaining: 3.54s\n",
      "16:\tlearn: 0.3814366\ttotal: 449ms\tremaining: 3.51s\n",
      "17:\tlearn: 0.3769347\ttotal: 472ms\tremaining: 3.46s\n",
      "18:\tlearn: 0.3730321\ttotal: 493ms\tremaining: 3.4s\n",
      "19:\tlearn: 0.3692476\ttotal: 515ms\tremaining: 3.35s\n",
      "20:\tlearn: 0.3668140\ttotal: 535ms\tremaining: 3.28s\n",
      "21:\tlearn: 0.3644648\ttotal: 555ms\tremaining: 3.23s\n",
      "22:\tlearn: 0.3617116\ttotal: 576ms\tremaining: 3.18s\n",
      "23:\tlearn: 0.3591609\ttotal: 597ms\tremaining: 3.13s\n",
      "24:\tlearn: 0.3574241\ttotal: 617ms\tremaining: 3.08s\n",
      "25:\tlearn: 0.3554972\ttotal: 641ms\tremaining: 3.05s\n",
      "26:\tlearn: 0.3533459\ttotal: 663ms\tremaining: 3.02s\n",
      "27:\tlearn: 0.3515648\ttotal: 683ms\tremaining: 2.98s\n",
      "28:\tlearn: 0.3506348\ttotal: 704ms\tremaining: 2.94s\n",
      "29:\tlearn: 0.3484161\ttotal: 724ms\tremaining: 2.9s\n",
      "30:\tlearn: 0.3472283\ttotal: 745ms\tremaining: 2.86s\n",
      "31:\tlearn: 0.3457502\ttotal: 766ms\tremaining: 2.82s\n",
      "32:\tlearn: 0.3446077\ttotal: 786ms\tremaining: 2.79s\n",
      "33:\tlearn: 0.3425196\ttotal: 809ms\tremaining: 2.76s\n",
      "34:\tlearn: 0.3411771\ttotal: 831ms\tremaining: 2.73s\n",
      "35:\tlearn: 0.3403375\ttotal: 852ms\tremaining: 2.7s\n",
      "36:\tlearn: 0.3394631\ttotal: 873ms\tremaining: 2.67s\n",
      "37:\tlearn: 0.3384982\ttotal: 892ms\tremaining: 2.63s\n",
      "38:\tlearn: 0.3382080\ttotal: 905ms\tremaining: 2.58s\n",
      "39:\tlearn: 0.3376115\ttotal: 924ms\tremaining: 2.54s\n",
      "40:\tlearn: 0.3372563\ttotal: 939ms\tremaining: 2.5s\n",
      "41:\tlearn: 0.3365847\ttotal: 958ms\tremaining: 2.46s\n",
      "42:\tlearn: 0.3361090\ttotal: 978ms\tremaining: 2.43s\n",
      "43:\tlearn: 0.3357683\ttotal: 997ms\tremaining: 2.4s\n",
      "44:\tlearn: 0.3355960\ttotal: 1.02s\tremaining: 2.38s\n",
      "45:\tlearn: 0.3353405\ttotal: 1.04s\tremaining: 2.35s\n",
      "46:\tlearn: 0.3350872\ttotal: 1.06s\tremaining: 2.32s\n",
      "47:\tlearn: 0.3344420\ttotal: 1.08s\tremaining: 2.29s\n",
      "48:\tlearn: 0.3340803\ttotal: 1.1s\tremaining: 2.26s\n",
      "49:\tlearn: 0.3335829\ttotal: 1.12s\tremaining: 2.23s\n",
      "50:\tlearn: 0.3331764\ttotal: 1.14s\tremaining: 2.21s\n",
      "51:\tlearn: 0.3326729\ttotal: 1.16s\tremaining: 2.18s\n",
      "52:\tlearn: 0.3324063\ttotal: 1.18s\tremaining: 2.15s\n",
      "53:\tlearn: 0.3321673\ttotal: 1.19s\tremaining: 2.12s\n",
      "54:\tlearn: 0.3319328\ttotal: 1.21s\tremaining: 2.09s\n",
      "55:\tlearn: 0.3314157\ttotal: 1.23s\tremaining: 2.07s\n",
      "56:\tlearn: 0.3308460\ttotal: 1.25s\tremaining: 2.04s\n",
      "57:\tlearn: 0.3305833\ttotal: 1.27s\tremaining: 2.02s\n",
      "58:\tlearn: 0.3298199\ttotal: 1.29s\tremaining: 1.99s\n",
      "59:\tlearn: 0.3294061\ttotal: 1.31s\tremaining: 1.97s\n",
      "60:\tlearn: 0.3290171\ttotal: 1.33s\tremaining: 1.94s\n",
      "61:\tlearn: 0.3287881\ttotal: 1.35s\tremaining: 1.92s\n",
      "62:\tlearn: 0.3283303\ttotal: 1.37s\tremaining: 1.89s\n",
      "63:\tlearn: 0.3283278\ttotal: 1.39s\tremaining: 1.87s\n",
      "64:\tlearn: 0.3279709\ttotal: 1.41s\tremaining: 1.84s\n",
      "65:\tlearn: 0.3270233\ttotal: 1.43s\tremaining: 1.81s\n",
      "66:\tlearn: 0.3269186\ttotal: 1.44s\tremaining: 1.78s\n",
      "67:\tlearn: 0.3264679\ttotal: 1.46s\tremaining: 1.76s\n",
      "68:\tlearn: 0.3261671\ttotal: 1.48s\tremaining: 1.73s\n",
      "69:\tlearn: 0.3258661\ttotal: 1.49s\tremaining: 1.71s\n",
      "70:\tlearn: 0.3253754\ttotal: 1.51s\tremaining: 1.68s\n",
      "71:\tlearn: 0.3248951\ttotal: 1.53s\tremaining: 1.66s\n",
      "72:\tlearn: 0.3248911\ttotal: 1.54s\tremaining: 1.63s\n",
      "73:\tlearn: 0.3245731\ttotal: 1.56s\tremaining: 1.6s\n",
      "74:\tlearn: 0.3242676\ttotal: 1.58s\tremaining: 1.58s\n",
      "75:\tlearn: 0.3241669\ttotal: 1.6s\tremaining: 1.56s\n",
      "76:\tlearn: 0.3237883\ttotal: 1.62s\tremaining: 1.53s\n",
      "77:\tlearn: 0.3237029\ttotal: 1.64s\tremaining: 1.51s\n",
      "78:\tlearn: 0.3233219\ttotal: 1.65s\tremaining: 1.49s\n",
      "79:\tlearn: 0.3229715\ttotal: 1.67s\tremaining: 1.46s\n",
      "80:\tlearn: 0.3223294\ttotal: 1.69s\tremaining: 1.44s\n",
      "81:\tlearn: 0.3218385\ttotal: 1.71s\tremaining: 1.42s\n",
      "82:\tlearn: 0.3216693\ttotal: 1.73s\tremaining: 1.39s\n",
      "83:\tlearn: 0.3214724\ttotal: 1.75s\tremaining: 1.37s\n",
      "84:\tlearn: 0.3209384\ttotal: 1.76s\tremaining: 1.35s\n",
      "85:\tlearn: 0.3206616\ttotal: 1.78s\tremaining: 1.32s\n",
      "86:\tlearn: 0.3205620\ttotal: 1.8s\tremaining: 1.3s\n",
      "87:\tlearn: 0.3197126\ttotal: 1.81s\tremaining: 1.28s\n",
      "88:\tlearn: 0.3196126\ttotal: 1.83s\tremaining: 1.25s\n",
      "89:\tlearn: 0.3193075\ttotal: 1.85s\tremaining: 1.23s\n",
      "90:\tlearn: 0.3190314\ttotal: 1.86s\tremaining: 1.21s\n",
      "91:\tlearn: 0.3183955\ttotal: 1.88s\tremaining: 1.19s\n",
      "92:\tlearn: 0.3183389\ttotal: 1.9s\tremaining: 1.16s\n",
      "93:\tlearn: 0.3181784\ttotal: 1.91s\tremaining: 1.14s\n",
      "94:\tlearn: 0.3177375\ttotal: 1.93s\tremaining: 1.12s\n",
      "95:\tlearn: 0.3174713\ttotal: 1.94s\tremaining: 1.09s\n",
      "96:\tlearn: 0.3171683\ttotal: 1.96s\tremaining: 1.07s\n",
      "97:\tlearn: 0.3170385\ttotal: 1.98s\tremaining: 1.05s\n",
      "98:\tlearn: 0.3166900\ttotal: 1.99s\tremaining: 1.03s\n",
      "99:\tlearn: 0.3165707\ttotal: 2.01s\tremaining: 1.01s\n",
      "100:\tlearn: 0.3164006\ttotal: 2.03s\tremaining: 984ms\n",
      "101:\tlearn: 0.3162191\ttotal: 2.04s\tremaining: 962ms\n",
      "102:\tlearn: 0.3159839\ttotal: 2.06s\tremaining: 940ms\n",
      "103:\tlearn: 0.3157205\ttotal: 2.08s\tremaining: 919ms\n",
      "104:\tlearn: 0.3157180\ttotal: 2.09s\tremaining: 896ms\n",
      "105:\tlearn: 0.3153840\ttotal: 2.1s\tremaining: 874ms\n",
      "106:\tlearn: 0.3150089\ttotal: 2.12s\tremaining: 852ms\n",
      "107:\tlearn: 0.3148460\ttotal: 2.14s\tremaining: 832ms\n",
      "108:\tlearn: 0.3147190\ttotal: 2.15s\tremaining: 811ms\n",
      "109:\tlearn: 0.3143917\ttotal: 2.17s\tremaining: 790ms\n",
      "110:\tlearn: 0.3139020\ttotal: 2.19s\tremaining: 769ms\n",
      "111:\tlearn: 0.3137570\ttotal: 2.2s\tremaining: 747ms\n",
      "112:\tlearn: 0.3134520\ttotal: 2.23s\tremaining: 729ms\n",
      "113:\tlearn: 0.3128983\ttotal: 2.24s\tremaining: 708ms\n",
      "114:\tlearn: 0.3124424\ttotal: 2.26s\tremaining: 688ms\n",
      "115:\tlearn: 0.3124317\ttotal: 2.27s\tremaining: 667ms\n",
      "116:\tlearn: 0.3120116\ttotal: 2.29s\tremaining: 647ms\n",
      "117:\tlearn: 0.3118741\ttotal: 2.31s\tremaining: 626ms\n",
      "118:\tlearn: 0.3114475\ttotal: 2.32s\tremaining: 605ms\n",
      "119:\tlearn: 0.3109572\ttotal: 2.34s\tremaining: 585ms\n",
      "120:\tlearn: 0.3108698\ttotal: 2.36s\tremaining: 565ms\n",
      "121:\tlearn: 0.3104960\ttotal: 2.37s\tremaining: 545ms\n",
      "122:\tlearn: 0.3104192\ttotal: 2.39s\tremaining: 525ms\n",
      "123:\tlearn: 0.3103053\ttotal: 2.4s\tremaining: 504ms\n",
      "124:\tlearn: 0.3100492\ttotal: 2.42s\tremaining: 485ms\n",
      "125:\tlearn: 0.3098067\ttotal: 2.46s\tremaining: 468ms\n",
      "126:\tlearn: 0.3095745\ttotal: 2.48s\tremaining: 449ms\n",
      "127:\tlearn: 0.3095102\ttotal: 2.49s\tremaining: 429ms\n",
      "128:\tlearn: 0.3092629\ttotal: 2.51s\tremaining: 409ms\n",
      "129:\tlearn: 0.3091179\ttotal: 2.52s\tremaining: 389ms\n",
      "130:\tlearn: 0.3090628\ttotal: 2.54s\tremaining: 369ms\n",
      "131:\tlearn: 0.3088453\ttotal: 2.56s\tremaining: 349ms\n",
      "132:\tlearn: 0.3087852\ttotal: 2.57s\tremaining: 329ms\n",
      "133:\tlearn: 0.3086884\ttotal: 2.59s\tremaining: 309ms\n",
      "134:\tlearn: 0.3084297\ttotal: 2.6s\tremaining: 289ms\n",
      "135:\tlearn: 0.3082196\ttotal: 2.62s\tremaining: 270ms\n",
      "136:\tlearn: 0.3080137\ttotal: 2.64s\tremaining: 250ms\n",
      "137:\tlearn: 0.3079103\ttotal: 2.65s\tremaining: 231ms\n",
      "138:\tlearn: 0.3077447\ttotal: 2.67s\tremaining: 211ms\n",
      "139:\tlearn: 0.3077377\ttotal: 2.68s\tremaining: 192ms\n",
      "140:\tlearn: 0.3075597\ttotal: 2.72s\tremaining: 174ms\n",
      "141:\tlearn: 0.3072969\ttotal: 2.74s\tremaining: 154ms\n",
      "142:\tlearn: 0.3069148\ttotal: 2.75s\tremaining: 135ms\n",
      "143:\tlearn: 0.3068007\ttotal: 2.77s\tremaining: 115ms\n",
      "144:\tlearn: 0.3065720\ttotal: 2.78s\tremaining: 95.9ms\n",
      "145:\tlearn: 0.3064474\ttotal: 2.8s\tremaining: 76.7ms\n",
      "146:\tlearn: 0.3064344\ttotal: 2.81s\tremaining: 57.5ms\n",
      "147:\tlearn: 0.3062478\ttotal: 2.83s\tremaining: 38.3ms\n",
      "148:\tlearn: 0.3059543\ttotal: 2.85s\tremaining: 19.1ms\n",
      "149:\tlearn: 0.3059101\ttotal: 2.86s\tremaining: 0us\n"
     ]
    },
    {
     "data": {
      "text/plain": [
       "GridSearchCV(cv=12,\n",
       "             estimator=<catboost.core.CatBoostClassifier object at 0x0000017A53021280>,\n",
       "             n_jobs=-1,\n",
       "             param_grid={'learning_rate': [0.1], 'max_depth': [5, 7],\n",
       "                         'n_estimators': [100, 150, 200]},\n",
       "             return_train_score=True, scoring=make_scorer(roc_auc_score),\n",
       "             verbose=10)"
      ]
     },
     "execution_count": 969,
     "metadata": {},
     "output_type": "execute_result"
    }
   ],
   "source": [
    "gscv2.fit(\n",
    "    train_data.drop('Revenue', axis=1),\n",
    "    train_data['Revenue'].astype(float)\n",
    ")"
   ]
  },
  {
   "cell_type": "code",
   "execution_count": 970,
   "metadata": {},
   "outputs": [
    {
     "data": {
      "text/plain": [
       "{'learning_rate': 0.1, 'max_depth': 5, 'n_estimators': 150}"
      ]
     },
     "execution_count": 970,
     "metadata": {},
     "output_type": "execute_result"
    }
   ],
   "source": [
    "gscv2.best_params_"
   ]
  },
  {
   "cell_type": "code",
   "execution_count": 971,
   "metadata": {},
   "outputs": [
    {
     "name": "stdout",
     "output_type": "stream",
     "text": [
      "Mean validation score for the best model is 0.8552116437281997\n",
      "   split0_test_score  split1_test_score  split2_test_score  split3_test_score  \\\n",
      "1           0.849357           0.834668           0.833229           0.877256   \n",
      "\n",
      "   split4_test_score  split5_test_score  split6_test_score  split7_test_score  \\\n",
      "1           0.843641           0.882252           0.849317           0.880173   \n",
      "\n",
      "   split8_test_score  split9_test_score  split10_test_score  \\\n",
      "1           0.820999           0.868663            0.857529   \n",
      "\n",
      "   split11_test_score  mean_test_score  std_test_score  rank_test_score  \n",
      "1            0.865454         0.855212         0.01917                1  \n",
      "Test ROC AUC is 0.8622501532493895\n"
     ]
    },
    {
     "data": {
      "image/png": "[encoded data removed]",
      "text/plain": [
       "<Figure size 432x288 with 1 Axes>"
      ]
     },
     "metadata": {
      "needs_background": "light"
     },
     "output_type": "display_data"
    },
    {
     "name": "stdout",
     "output_type": "stream",
     "text": [
      "Test PR AUC is 0.7092897293050244\n"
     ]
    },
    {
     "data": {
      "image/png": "[encoded data removed]",
      "text/plain": [
       "<Figure size 432x288 with 1 Axes>"
      ]
     },
     "metadata": {
      "needs_background": "light"
     },
     "output_type": "display_data"
    },
    {
     "name": "stdout",
     "output_type": "stream",
     "text": [
      "Confusion matrix is\n",
      " [[1799  285]\n",
      " [  53  329]]\n",
      "F1 score is 0.6606425702811246\n"
     ]
    },
    {
     "data": {
      "text/plain": [
       "array([[1799,  285],\n",
       "       [  53,  329]], dtype=int64)"
      ]
     },
     "execution_count": 971,
     "metadata": {},
     "output_type": "execute_result"
    }
   ],
   "source": [
    "y_true, y_pred = eval_model(gscv2)\n",
    "confusion_matrix(y_true, y_pred)"
   ]
  },
  {
   "cell_type": "code",
   "execution_count": 1153,
   "metadata": {},
   "outputs": [
    {
     "data": {
      "text/plain": [
       "['./metadata/model2.model']"
      ]
     },
     "execution_count": 1153,
     "metadata": {},
     "output_type": "execute_result"
    }
   ],
   "source": [
    "from utils import RegressionModel\n",
    "# RegressionModel is a helper class I created to provide a common interface between Classification\n",
    "# and Regression models, where Regression values above a certain threshold return True while the\n",
    "# rest return False. More can be read at utils.py.\n",
    "\n",
    "model1 = RegressionModel(gscv.best_estimator_, threshold = 0.17582204433635523)\n",
    "dump(model1, './metadata/model1.model')\n",
    "dump(gscv2.best_estimator_, './metadata/model2.model')"
   ]
  },
  {
   "cell_type": "code",
   "execution_count": 1058,
   "metadata": {},
   "outputs": [
    {
     "data": {
      "text/plain": [
       "['./metadata/pipeline.metadata']"
      ]
     },
     "execution_count": 1058,
     "metadata": {},
     "output_type": "execute_result"
    }
   ],
   "source": [
    "dump(pipeline, './metadata/pipeline.metadata')"
   ]
  }
 ],
 "metadata": {
  "kernelspec": {
   "display_name": "Python 3",
   "language": "python",
   "name": "python3"
  },
  "language_info": {
   "codemirror_mode": {
    "name": "ipython",
    "version": 3
   },
   "file_extension": ".py",
   "mimetype": "text/x-python",
   "name": "python",
   "nbconvert_exporter": "python",
   "pygments_lexer": "ipython3",
   "version": "3.8.5"
  }
 },
 "nbformat": 4,
 "nbformat_minor": 4
}
